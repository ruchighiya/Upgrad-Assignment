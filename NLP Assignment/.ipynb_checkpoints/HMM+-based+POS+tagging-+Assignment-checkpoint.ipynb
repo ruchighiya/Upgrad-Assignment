{
 "cells": [
  {
   "cell_type": "markdown",
   "metadata": {},
   "source": [
    "## POS tagging using modified Viterbi\n",
    "\n",
    "In this assignment, we need to modify the Viterbi algorithm to solve the problem of unknown words using at least two techniques. Though there could be multiple ways to solve this problem, we can use the following hints:<br>\n",
    "\n",
    "1. Which tag class can be most unknown words belong to? Can we identify rules (e.g. based on morphological cues) that can be used to tag unknown words? You may define separate python functions to exploit these rules so that they work in tandem with the original Viterbi algorithm.<br>\n",
    "2. Why does the Viterbi algorithm choose a random tag on encountering an unknown word? Can you modify the Viterbi algorithm so that it considers only one of the transition or emission probabilities for unknown words?"
   ]
  },
  {
   "cell_type": "markdown",
   "metadata": {},
   "source": [
    "# Goals\n",
    "\n",
    "We can split the Treebank dataset into train and validation sets. Please use a sample size of 95:5 for training: validation sets, i.e. keep the validation size small, else the algorithm will need a very high amount of runtime.<br>\n",
    " \n",
    "You need to accomplish the following in this assignment:<br>\n",
    "\n",
    "1. Write the vanilla Viterbi algorithm for assigning POS tags (i.e. without dealing with unknown words) \n",
    "2. Solve the problem of unknown words using at least two techniques. These techniques can use any of the approaches discussed in the class - lexicon, rule-based, probabilistic etc. Note that to implement these techniques, you can either write separate functions and call them from the main Viterbi algorithm, or modify the Viterbi algorithm, or both.\n",
    "3. Compare the tagging accuracy after making these modifications with the vanilla Viterbi algorithm.\n",
    "4. List down at least three cases from the sample test file (i.e. unknown word-tag pairs) which were incorrectly tagged by the original Viterbi POS tagger and got corrected after your modifications."
   ]
  },
  {
   "cell_type": "markdown",
   "metadata": {},
   "source": [
    "### Data Preparation"
   ]
  },
  {
   "cell_type": "code",
   "execution_count": 1,
   "metadata": {},
   "outputs": [
    {
     "name": "stderr",
     "output_type": "stream",
     "text": [
      "[nltk_data] Downloading package universal_tagset to\n",
      "[nltk_data]     C:\\Users\\acer\\AppData\\Roaming\\nltk_data...\n",
      "[nltk_data]   Package universal_tagset is already up-to-date!\n"
     ]
    },
    {
     "data": {
      "text/plain": [
       "True"
      ]
     },
     "execution_count": 1,
     "metadata": {},
     "output_type": "execute_result"
    }
   ],
   "source": [
    "#Importing libraries\n",
    "import nltk, re, pprint\n",
    "import numpy as np\n",
    "import pandas as pd\n",
    "import requests\n",
    "import matplotlib.pyplot as plt\n",
    "import seaborn as sns\n",
    "import pprint, time\n",
    "import random\n",
    "from sklearn.model_selection import train_test_split\n",
    "from nltk.tokenize import word_tokenize\n",
    "nltk.download('universal_tagset')"
   ]
  },
  {
   "cell_type": "code",
   "execution_count": 2,
   "metadata": {},
   "outputs": [],
   "source": [
    "# reading the Treebank tagged sentences\n",
    "nltk_data = list(nltk.corpus.treebank.tagged_sents(tagset='universal'))"
   ]
  },
  {
   "cell_type": "code",
   "execution_count": 3,
   "metadata": {},
   "outputs": [
    {
     "name": "stdout",
     "output_type": "stream",
     "text": [
      "[[('Pierre', 'NOUN'), ('Vinken', 'NOUN'), (',', '.'), ('61', 'NUM'), ('years', 'NOUN'), ('old', 'ADJ'), (',', '.'), ('will', 'VERB'), ('join', 'VERB'), ('the', 'DET'), ('board', 'NOUN'), ('as', 'ADP'), ('a', 'DET'), ('nonexecutive', 'ADJ'), ('director', 'NOUN'), ('Nov.', 'NOUN'), ('29', 'NUM'), ('.', '.')], [('Mr.', 'NOUN'), ('Vinken', 'NOUN'), ('is', 'VERB'), ('chairman', 'NOUN'), ('of', 'ADP'), ('Elsevier', 'NOUN'), ('N.V.', 'NOUN'), (',', '.'), ('the', 'DET'), ('Dutch', 'NOUN'), ('publishing', 'VERB'), ('group', 'NOUN'), ('.', '.')], [('Rudolph', 'NOUN'), ('Agnew', 'NOUN'), (',', '.'), ('55', 'NUM'), ('years', 'NOUN'), ('old', 'ADJ'), ('and', 'CONJ'), ('former', 'ADJ'), ('chairman', 'NOUN'), ('of', 'ADP'), ('Consolidated', 'NOUN'), ('Gold', 'NOUN'), ('Fields', 'NOUN'), ('PLC', 'NOUN'), (',', '.'), ('was', 'VERB'), ('named', 'VERB'), ('*-1', 'X'), ('a', 'DET'), ('nonexecutive', 'ADJ'), ('director', 'NOUN'), ('of', 'ADP'), ('this', 'DET'), ('British', 'ADJ'), ('industrial', 'ADJ'), ('conglomerate', 'NOUN'), ('.', '.')], [('A', 'DET'), ('form', 'NOUN'), ('of', 'ADP'), ('asbestos', 'NOUN'), ('once', 'ADV'), ('used', 'VERB'), ('*', 'X'), ('*', 'X'), ('to', 'PRT'), ('make', 'VERB'), ('Kent', 'NOUN'), ('cigarette', 'NOUN'), ('filters', 'NOUN'), ('has', 'VERB'), ('caused', 'VERB'), ('a', 'DET'), ('high', 'ADJ'), ('percentage', 'NOUN'), ('of', 'ADP'), ('cancer', 'NOUN'), ('deaths', 'NOUN'), ('among', 'ADP'), ('a', 'DET'), ('group', 'NOUN'), ('of', 'ADP'), ('workers', 'NOUN'), ('exposed', 'VERB'), ('*', 'X'), ('to', 'PRT'), ('it', 'PRON'), ('more', 'ADV'), ('than', 'ADP'), ('30', 'NUM'), ('years', 'NOUN'), ('ago', 'ADP'), (',', '.'), ('researchers', 'NOUN'), ('reported', 'VERB'), ('0', 'X'), ('*T*-1', 'X'), ('.', '.')], [('The', 'DET'), ('asbestos', 'NOUN'), ('fiber', 'NOUN'), (',', '.'), ('crocidolite', 'NOUN'), (',', '.'), ('is', 'VERB'), ('unusually', 'ADV'), ('resilient', 'ADJ'), ('once', 'ADP'), ('it', 'PRON'), ('enters', 'VERB'), ('the', 'DET'), ('lungs', 'NOUN'), (',', '.'), ('with', 'ADP'), ('even', 'ADV'), ('brief', 'ADJ'), ('exposures', 'NOUN'), ('to', 'PRT'), ('it', 'PRON'), ('causing', 'VERB'), ('symptoms', 'NOUN'), ('that', 'DET'), ('*T*-1', 'X'), ('show', 'VERB'), ('up', 'PRT'), ('decades', 'NOUN'), ('later', 'ADJ'), (',', '.'), ('researchers', 'NOUN'), ('said', 'VERB'), ('0', 'X'), ('*T*-2', 'X'), ('.', '.')], [('Lorillard', 'NOUN'), ('Inc.', 'NOUN'), (',', '.'), ('the', 'DET'), ('unit', 'NOUN'), ('of', 'ADP'), ('New', 'ADJ'), ('York-based', 'ADJ'), ('Loews', 'NOUN'), ('Corp.', 'NOUN'), ('that', 'DET'), ('*T*-2', 'X'), ('makes', 'VERB'), ('Kent', 'NOUN'), ('cigarettes', 'NOUN'), (',', '.'), ('stopped', 'VERB'), ('using', 'VERB'), ('crocidolite', 'NOUN'), ('in', 'ADP'), ('its', 'PRON'), ('Micronite', 'NOUN'), ('cigarette', 'NOUN'), ('filters', 'NOUN'), ('in', 'ADP'), ('1956', 'NUM'), ('.', '.')], [('Although', 'ADP'), ('preliminary', 'ADJ'), ('findings', 'NOUN'), ('were', 'VERB'), ('reported', 'VERB'), ('*-2', 'X'), ('more', 'ADV'), ('than', 'ADP'), ('a', 'DET'), ('year', 'NOUN'), ('ago', 'ADP'), (',', '.'), ('the', 'DET'), ('latest', 'ADJ'), ('results', 'NOUN'), ('appear', 'VERB'), ('in', 'ADP'), ('today', 'NOUN'), (\"'s\", 'PRT'), ('New', 'NOUN'), ('England', 'NOUN'), ('Journal', 'NOUN'), ('of', 'ADP'), ('Medicine', 'NOUN'), (',', '.'), ('a', 'DET'), ('forum', 'NOUN'), ('likely', 'ADJ'), ('*', 'X'), ('to', 'PRT'), ('bring', 'VERB'), ('new', 'ADJ'), ('attention', 'NOUN'), ('to', 'PRT'), ('the', 'DET'), ('problem', 'NOUN'), ('.', '.')], [('A', 'DET'), ('Lorillard', 'NOUN'), ('spokewoman', 'NOUN'), ('said', 'VERB'), (',', '.'), ('``', '.'), ('This', 'DET'), ('is', 'VERB'), ('an', 'DET'), ('old', 'ADJ'), ('story', 'NOUN'), ('.', '.')], [('We', 'PRON'), (\"'re\", 'VERB'), ('talking', 'VERB'), ('about', 'ADP'), ('years', 'NOUN'), ('ago', 'ADP'), ('before', 'ADP'), ('anyone', 'NOUN'), ('heard', 'VERB'), ('of', 'ADP'), ('asbestos', 'NOUN'), ('having', 'VERB'), ('any', 'DET'), ('questionable', 'ADJ'), ('properties', 'NOUN'), ('.', '.')], [('There', 'DET'), ('is', 'VERB'), ('no', 'DET'), ('asbestos', 'NOUN'), ('in', 'ADP'), ('our', 'PRON'), ('products', 'NOUN'), ('now', 'ADV'), ('.', '.'), (\"''\", '.')], [('Neither', 'DET'), ('Lorillard', 'NOUN'), ('nor', 'CONJ'), ('the', 'DET'), ('researchers', 'NOUN'), ('who', 'PRON'), ('*T*-3', 'X'), ('studied', 'VERB'), ('the', 'DET'), ('workers', 'NOUN'), ('were', 'VERB'), ('aware', 'ADJ'), ('of', 'ADP'), ('any', 'DET'), ('research', 'NOUN'), ('on', 'ADP'), ('smokers', 'NOUN'), ('of', 'ADP'), ('the', 'DET'), ('Kent', 'NOUN'), ('cigarettes', 'NOUN'), ('.', '.')], [('``', '.'), ('We', 'PRON'), ('have', 'VERB'), ('no', 'DET'), ('useful', 'ADJ'), ('information', 'NOUN'), ('on', 'ADP'), ('whether', 'ADP'), ('users', 'NOUN'), ('are', 'VERB'), ('at', 'ADP'), ('risk', 'NOUN'), (',', '.'), (\"''\", '.'), ('said', 'VERB'), ('*T*-1', 'X'), ('James', 'NOUN'), ('A.', 'NOUN'), ('Talcott', 'NOUN'), ('of', 'ADP'), ('Boston', 'NOUN'), (\"'s\", 'PRT'), ('Dana-Farber', 'NOUN'), ('Cancer', 'NOUN'), ('Institute', 'NOUN'), ('.', '.')], [('Dr.', 'NOUN'), ('Talcott', 'NOUN'), ('led', 'VERB'), ('a', 'DET'), ('team', 'NOUN'), ('of', 'ADP'), ('researchers', 'NOUN'), ('from', 'ADP'), ('the', 'DET'), ('National', 'NOUN'), ('Cancer', 'NOUN'), ('Institute', 'NOUN'), ('and', 'CONJ'), ('the', 'DET'), ('medical', 'ADJ'), ('schools', 'NOUN'), ('of', 'ADP'), ('Harvard', 'NOUN'), ('University', 'NOUN'), ('and', 'CONJ'), ('Boston', 'NOUN'), ('University', 'NOUN'), ('.', '.')], [('The', 'DET'), ('Lorillard', 'NOUN'), ('spokeswoman', 'NOUN'), ('said', 'VERB'), ('0', 'X'), ('asbestos', 'NOUN'), ('was', 'VERB'), ('used', 'VERB'), ('*-1', 'X'), ('in', 'ADP'), ('``', '.'), ('very', 'ADV'), ('modest', 'ADJ'), ('amounts', 'NOUN'), (\"''\", '.'), ('in', 'ADP'), ('*', 'X'), ('making', 'VERB'), ('paper', 'NOUN'), ('for', 'ADP'), ('the', 'DET'), ('filters', 'NOUN'), ('in', 'ADP'), ('the', 'DET'), ('early', 'ADJ'), ('1950s', 'NUM'), ('and', 'CONJ'), ('replaced', 'VERB'), ('*-1', 'X'), ('with', 'ADP'), ('a', 'DET'), ('different', 'ADJ'), ('type', 'NOUN'), ('of', 'ADP'), ('filter', 'NOUN'), ('in', 'ADP'), ('1956', 'NUM'), ('.', '.')], [('From', 'ADP'), ('1953', 'NUM'), ('to', 'PRT'), ('1955', 'NUM'), (',', '.'), ('9.8', 'NUM'), ('billion', 'NUM'), ('Kent', 'NOUN'), ('cigarettes', 'NOUN'), ('with', 'ADP'), ('the', 'DET'), ('filters', 'NOUN'), ('were', 'VERB'), ('sold', 'VERB'), ('*-3', 'X'), (',', '.'), ('the', 'DET'), ('company', 'NOUN'), ('said', 'VERB'), ('0', 'X'), ('*T*-1', 'X'), ('.', '.')], [('Among', 'ADP'), ('33', 'NUM'), ('men', 'NOUN'), ('who', 'PRON'), ('*T*-4', 'X'), ('worked', 'VERB'), ('closely', 'ADV'), ('with', 'ADP'), ('the', 'DET'), ('substance', 'NOUN'), (',', '.'), ('28', 'NUM'), ('*ICH*-1', 'X'), ('have', 'VERB'), ('died', 'VERB'), ('--', '.'), ('more', 'ADJ'), ('than', 'ADP'), ('three', 'NUM'), ('times', 'NOUN'), ('the', 'DET'), ('expected', 'VERB'), ('number', 'NOUN'), ('.', '.')], [('Four', 'NUM'), ('of', 'ADP'), ('the', 'DET'), ('five', 'NUM'), ('surviving', 'VERB'), ('workers', 'NOUN'), ('have', 'VERB'), ('asbestos-related', 'ADJ'), ('diseases', 'NOUN'), (',', '.'), ('including', 'VERB'), ('three', 'NUM'), ('with', 'ADP'), ('recently', 'ADV'), ('diagnosed', 'VERB'), ('cancer', 'NOUN'), ('.', '.')], [('The', 'DET'), ('total', 'NOUN'), ('of', 'ADP'), ('18', 'NUM'), ('deaths', 'NOUN'), ('from', 'ADP'), ('malignant', 'ADJ'), ('mesothelioma', 'NOUN'), (',', '.'), ('lung', 'NOUN'), ('cancer', 'NOUN'), ('and', 'CONJ'), ('asbestosis', 'NOUN'), ('was', 'VERB'), ('far', 'ADV'), ('higher', 'ADJ'), ('than', 'ADP'), ('*', 'X'), ('expected', 'VERB'), ('*?*', 'X'), (',', '.'), ('the', 'DET'), ('researchers', 'NOUN'), ('said', 'VERB'), ('0', 'X'), ('*T*-1', 'X'), ('.', '.')], [('``', '.'), ('The', 'DET'), ('morbidity', 'NOUN'), ('rate', 'NOUN'), ('is', 'VERB'), ('a', 'DET'), ('striking', 'ADJ'), ('finding', 'NOUN'), ('among', 'ADP'), ('those', 'DET'), ('of', 'ADP'), ('us', 'PRON'), ('who', 'PRON'), ('*T*-5', 'X'), ('study', 'VERB'), ('asbestos-related', 'ADJ'), ('diseases', 'NOUN'), (',', '.'), (\"''\", '.'), ('said', 'VERB'), ('*T*-1', 'X'), ('Dr.', 'NOUN'), ('Talcott', 'NOUN'), ('.', '.')], [('The', 'DET'), ('percentage', 'NOUN'), ('of', 'ADP'), ('lung', 'NOUN'), ('cancer', 'NOUN'), ('deaths', 'NOUN'), ('among', 'ADP'), ('the', 'DET'), ('workers', 'NOUN'), ('at', 'ADP'), ('the', 'DET'), ('West', 'NOUN'), ('Groton', 'NOUN'), (',', '.'), ('Mass.', 'NOUN'), (',', '.'), ('paper', 'NOUN'), ('factory', 'NOUN'), ('appears', 'VERB'), ('*-1', 'X'), ('to', 'PRT'), ('be', 'VERB'), ('the', 'DET'), ('highest', 'ADJ'), ('for', 'ADP'), ('any', 'DET'), ('asbestos', 'NOUN'), ('workers', 'NOUN'), ('studied', 'VERB'), ('*', 'X'), ('in', 'ADP'), ('Western', 'ADJ'), ('industrialized', 'VERB'), ('countries', 'NOUN'), (',', '.'), ('he', 'PRON'), ('said', 'VERB'), ('0', 'X'), ('*T*-2', 'X'), ('.', '.')], [('The', 'DET'), ('plant', 'NOUN'), (',', '.'), ('which', 'DET'), ('*T*-1', 'X'), ('is', 'VERB'), ('owned', 'VERB'), ('*-4', 'X'), ('by', 'ADP'), ('Hollingsworth', 'NOUN'), ('&', 'CONJ'), ('Vose', 'NOUN'), ('Co.', 'NOUN'), (',', '.'), ('was', 'VERB'), ('under', 'ADP'), ('contract', 'NOUN'), ('*ICH*-2', 'X'), ('with', 'ADP'), ('Lorillard', 'NOUN'), ('*', 'X'), ('to', 'PRT'), ('make', 'VERB'), ('the', 'DET'), ('cigarette', 'NOUN'), ('filters', 'NOUN'), ('.', '.')], [('The', 'DET'), ('finding', 'NOUN'), ('probably', 'ADV'), ('will', 'VERB'), ('support', 'VERB'), ('those', 'DET'), ('who', 'PRON'), ('*T*-6', 'X'), ('argue', 'VERB'), ('that', 'ADP'), ('the', 'DET'), ('U.S.', 'NOUN'), ('should', 'VERB'), ('regulate', 'VERB'), ('the', 'DET'), ('class', 'NOUN'), ('of', 'ADP'), ('asbestos', 'NOUN'), ('including', 'VERB'), ('crocidolite', 'NOUN'), ('more', 'ADV'), ('stringently', 'ADV'), ('than', 'ADP'), ('the', 'DET'), ('common', 'ADJ'), ('kind', 'NOUN'), ('of', 'ADP'), ('asbestos', 'NOUN'), (',', '.'), ('chrysotile', 'NOUN'), (',', '.'), ('found', 'VERB'), ('*', 'X'), ('in', 'ADP'), ('most', 'ADJ'), ('schools', 'NOUN'), ('and', 'CONJ'), ('other', 'ADJ'), ('buildings', 'NOUN'), (',', '.'), ('Dr.', 'NOUN'), ('Talcott', 'NOUN'), ('said', 'VERB'), ('0', 'X'), ('*T*-1', 'X'), ('.', '.')], [('The', 'DET'), ('U.S.', 'NOUN'), ('is', 'VERB'), ('one', 'NUM'), ('of', 'ADP'), ('the', 'DET'), ('few', 'ADJ'), ('industrialized', 'VERB'), ('nations', 'NOUN'), ('that', 'DET'), ('*T*-7', 'X'), ('does', 'VERB'), (\"n't\", 'ADV'), ('have', 'VERB'), ('a', 'DET'), ('higher', 'ADJ'), ('standard', 'NOUN'), ('of', 'ADP'), ('regulation', 'NOUN'), ('for', 'ADP'), ('the', 'DET'), ('smooth', 'ADJ'), (',', '.'), ('needle-like', 'ADJ'), ('fibers', 'NOUN'), ('such', 'ADJ'), ('as', 'ADP'), ('crocidolite', 'NOUN'), ('that', 'DET'), ('*T*-1', 'X'), ('are', 'VERB'), ('classified', 'VERB'), ('*-5', 'X'), ('as', 'ADP'), ('amphobiles', 'NOUN'), (',', '.'), ('according', 'VERB'), ('to', 'PRT'), ('Brooke', 'NOUN'), ('T.', 'NOUN'), ('Mossman', 'NOUN'), (',', '.'), ('a', 'DET'), ('professor', 'NOUN'), ('of', 'ADP'), ('pathlogy', 'NOUN'), ('at', 'ADP'), ('the', 'DET'), ('University', 'NOUN'), ('of', 'ADP'), ('Vermont', 'NOUN'), ('College', 'NOUN'), ('of', 'ADP'), ('Medicine', 'NOUN'), ('.', '.')], [('More', 'ADV'), ('common', 'ADJ'), ('chrysotile', 'NOUN'), ('fibers', 'NOUN'), ('are', 'VERB'), ('curly', 'ADJ'), ('and', 'CONJ'), ('are', 'VERB'), ('more', 'ADV'), ('easily', 'ADV'), ('rejected', 'VERB'), ('*-1', 'X'), ('by', 'ADP'), ('the', 'DET'), ('body', 'NOUN'), (',', '.'), ('Dr.', 'NOUN'), ('Mossman', 'NOUN'), ('explained', 'VERB'), ('0', 'X'), ('*T*-2', 'X'), ('.', '.')], [('In', 'ADP'), ('July', 'NOUN'), (',', '.'), ('the', 'DET'), ('Environmental', 'NOUN'), ('Protection', 'NOUN'), ('Agency', 'NOUN'), ('imposed', 'VERB'), ('a', 'DET'), ('gradual', 'ADJ'), ('ban', 'NOUN'), ('on', 'ADP'), ('virtually', 'ADV'), ('all', 'DET'), ('uses', 'NOUN'), ('of', 'ADP'), ('asbestos', 'NOUN'), ('.', '.')], [('By', 'ADP'), ('1997', 'NUM'), (',', '.'), ('almost', 'ADV'), ('all', 'DET'), ('remaining', 'VERB'), ('uses', 'NOUN'), ('of', 'ADP'), ('cancer-causing', 'ADJ'), ('asbestos', 'NOUN'), ('will', 'VERB'), ('be', 'VERB'), ('outlawed', 'VERB'), ('*-6', 'X'), ('.', '.')], [('About', 'ADP'), ('160', 'NUM'), ('workers', 'NOUN'), ('at', 'ADP'), ('a', 'DET'), ('factory', 'NOUN'), ('that', 'DET'), ('*T*-8', 'X'), ('made', 'VERB'), ('paper', 'NOUN'), ('for', 'ADP'), ('the', 'DET'), ('Kent', 'NOUN'), ('filters', 'NOUN'), ('were', 'VERB'), ('exposed', 'VERB'), ('*-7', 'X'), ('to', 'PRT'), ('asbestos', 'NOUN'), ('in', 'ADP'), ('the', 'DET'), ('1950s', 'NUM'), ('.', '.')], [('Areas', 'NOUN'), ('of', 'ADP'), ('the', 'DET'), ('factory', 'NOUN'), ('*ICH*-2', 'X'), ('were', 'VERB'), ('particularly', 'ADV'), ('dusty', 'ADJ'), ('where', 'ADV'), ('the', 'DET'), ('crocidolite', 'NOUN'), ('was', 'VERB'), ('used', 'VERB'), ('*-8', 'X'), ('*T*-1', 'X'), ('.', '.')], [('Workers', 'NOUN'), ('dumped', 'VERB'), ('large', 'ADJ'), ('burlap', 'NOUN'), ('sacks', 'NOUN'), ('of', 'ADP'), ('the', 'DET'), ('imported', 'VERB'), ('material', 'NOUN'), ('into', 'ADP'), ('a', 'DET'), ('huge', 'ADJ'), ('bin', 'NOUN'), (',', '.'), ('poured', 'VERB'), ('in', 'PRT'), ('cotton', 'NOUN'), ('and', 'CONJ'), ('acetate', 'NOUN'), ('fibers', 'NOUN'), ('and', 'CONJ'), ('mechanically', 'ADV'), ('mixed', 'VERB'), ('the', 'DET'), ('dry', 'ADJ'), ('fibers', 'NOUN'), ('in', 'ADP'), ('a', 'DET'), ('process', 'NOUN'), ('used', 'VERB'), ('*', 'X'), ('*', 'X'), ('to', 'PRT'), ('make', 'VERB'), ('filters', 'NOUN'), ('.', '.')], [('Workers', 'NOUN'), ('described', 'VERB'), ('``', '.'), ('clouds', 'NOUN'), ('of', 'ADP'), ('blue', 'ADJ'), ('dust', 'NOUN'), (\"''\", '.'), ('that', 'DET'), ('*T*-1', 'X'), ('hung', 'VERB'), ('over', 'ADP'), ('parts', 'NOUN'), ('of', 'ADP'), ('the', 'DET'), ('factory', 'NOUN'), (',', '.'), ('even', 'ADV'), ('though', 'ADP'), ('exhaust', 'NOUN'), ('fans', 'NOUN'), ('ventilated', 'VERB'), ('the', 'DET'), ('area', 'NOUN'), ('.', '.')], [('``', '.'), ('There', 'DET'), (\"'s\", 'VERB'), ('no', 'DET'), ('question', 'NOUN'), ('that', 'ADP'), ('some', 'DET'), ('of', 'ADP'), ('those', 'DET'), ('workers', 'NOUN'), ('and', 'CONJ'), ('managers', 'NOUN'), ('contracted', 'VERB'), ('asbestos-related', 'ADJ'), ('diseases', 'NOUN'), (',', '.'), (\"''\", '.'), ('said', 'VERB'), ('*T*-1', 'X'), ('Darrell', 'NOUN'), ('Phillips', 'NOUN'), (',', '.'), ('vice', 'NOUN'), ('president', 'NOUN'), ('of', 'ADP'), ('human', 'ADJ'), ('resources', 'NOUN'), ('for', 'ADP'), ('Hollingsworth', 'NOUN'), ('&', 'CONJ'), ('Vose', 'NOUN'), ('.', '.')], [('``', '.'), ('But', 'CONJ'), ('you', 'PRON'), ('have', 'VERB'), ('*-1', 'X'), ('to', 'PRT'), ('recognize', 'VERB'), ('that', 'ADP'), ('these', 'DET'), ('events', 'NOUN'), ('took', 'VERB'), ('place', 'NOUN'), ('35', 'NUM'), ('years', 'NOUN'), ('ago', 'ADP'), ('.', '.')], [('It', 'PRON'), ('has', 'VERB'), ('no', 'DET'), ('bearing', 'NOUN'), ('on', 'ADP'), ('our', 'PRON'), ('work', 'NOUN'), ('force', 'NOUN'), ('today', 'NOUN'), ('.', '.')], [('Yields', 'NOUN'), ('on', 'ADP'), ('money-market', 'ADJ'), ('mutual', 'ADJ'), ('funds', 'NOUN'), ('continued', 'VERB'), ('*-1', 'X'), ('to', 'PRT'), ('slide', 'VERB'), (',', '.'), ('amid', 'ADP'), ('signs', 'NOUN'), ('that', 'ADP'), ('portfolio', 'NOUN'), ('managers', 'NOUN'), ('expect', 'VERB'), ('further', 'ADJ'), ('declines', 'NOUN'), ('in', 'ADP'), ('interest', 'NOUN'), ('rates', 'NOUN'), ('.', '.')], [('The', 'DET'), ('average', 'ADJ'), ('seven-day', 'ADJ'), ('compound', 'NOUN'), ('yield', 'NOUN'), ('of', 'ADP'), ('the', 'DET'), ('400', 'NUM'), ('taxable', 'ADJ'), ('funds', 'NOUN'), ('tracked', 'VERB'), ('*', 'X'), ('by', 'ADP'), ('IBC', 'NOUN'), (\"'s\", 'PRT'), ('Money', 'NOUN'), ('Fund', 'NOUN'), ('Report', 'NOUN'), ('eased', 'VERB'), ('a', 'DET'), ('fraction', 'NOUN'), ('of', 'ADP'), ('a', 'DET'), ('percentage', 'NOUN'), ('point', 'NOUN'), ('to', 'PRT'), ('8.45', 'NUM'), ('%', 'NOUN'), ('from', 'ADP'), ('8.47', 'NUM'), ('%', 'NOUN'), ('for', 'ADP'), ('the', 'DET'), ('week', 'NOUN'), ('ended', 'VERB'), ('Tuesday', 'NOUN'), ('.', '.')], [('Compound', 'NOUN'), ('yields', 'NOUN'), ('assume', 'VERB'), ('reinvestment', 'NOUN'), ('of', 'ADP'), ('dividends', 'NOUN'), ('and', 'CONJ'), ('that', 'ADP'), ('the', 'DET'), ('current', 'ADJ'), ('yield', 'NOUN'), ('continues', 'VERB'), ('for', 'ADP'), ('a', 'DET'), ('year', 'NOUN'), ('.', '.')], [('Average', 'ADJ'), ('maturity', 'NOUN'), ('of', 'ADP'), ('the', 'DET'), ('funds', 'NOUN'), (\"'\", 'PRT'), ('investments', 'NOUN'), ('lengthened', 'VERB'), ('by', 'ADP'), ('a', 'DET'), ('day', 'NOUN'), ('to', 'PRT'), ('41', 'NUM'), ('days', 'NOUN'), (',', '.'), ('the', 'DET'), ('longest', 'ADJ'), ('since', 'ADP'), ('early', 'ADJ'), ('August', 'NOUN'), (',', '.'), ('according', 'VERB'), ('to', 'PRT'), ('Donoghue', 'NOUN'), (\"'s\", 'PRT'), ('.', '.')], [('Longer', 'ADJ'), ('maturities', 'NOUN'), ('are', 'VERB'), ('thought', 'VERB'), ('*-1', 'X'), ('to', 'PRT'), ('indicate', 'VERB'), ('declining', 'VERB'), ('interest', 'NOUN'), ('rates', 'NOUN'), ('because', 'ADP'), ('they', 'PRON'), ('permit', 'VERB'), ('portfolio', 'NOUN'), ('managers', 'NOUN'), ('to', 'PRT'), ('retain', 'VERB'), ('relatively', 'ADV'), ('higher', 'ADJ'), ('rates', 'NOUN'), ('for', 'ADP'), ('a', 'DET'), ('longer', 'ADJ'), ('period', 'NOUN'), ('.', '.')], [('Shorter', 'ADJ'), ('maturities', 'NOUN'), ('are', 'VERB'), ('considered', 'VERB'), ('*-9', 'X'), ('a', 'DET'), ('sign', 'NOUN'), ('of', 'ADP'), ('rising', 'VERB'), ('rates', 'NOUN'), ('because', 'ADP'), ('portfolio', 'NOUN'), ('managers', 'NOUN'), ('can', 'VERB'), ('capture', 'VERB'), ('higher', 'ADJ'), ('rates', 'NOUN'), ('sooner', 'ADV'), ('.', '.')], [('The', 'DET'), ('average', 'ADJ'), ('maturity', 'NOUN'), ('for', 'ADP'), ('funds', 'NOUN'), ('open', 'ADJ'), ('only', 'ADV'), ('to', 'PRT'), ('institutions', 'NOUN'), (',', '.'), ('considered', 'VERB'), ('by', 'ADP'), ('some', 'DET'), ('*', 'X'), ('to', 'PRT'), ('be', 'VERB'), ('a', 'DET'), ('stronger', 'ADJ'), ('indicator', 'NOUN'), ('because', 'ADP'), ('those', 'DET'), ('managers', 'NOUN'), ('watch', 'VERB'), ('the', 'DET'), ('market', 'NOUN'), ('closely', 'ADV'), (',', '.'), ('reached', 'VERB'), ('a', 'DET'), ('high', 'ADJ'), ('point', 'NOUN'), ('for', 'ADP'), ('the', 'DET'), ('year', 'NOUN'), ('--', '.'), ('33', 'NUM'), ('days', 'NOUN'), ('.', '.')]]\n"
     ]
    }
   ],
   "source": [
    "print(nltk_data[:40])"
   ]
  },
  {
   "cell_type": "code",
   "execution_count": 4,
   "metadata": {},
   "outputs": [
    {
     "name": "stdout",
     "output_type": "stream",
     "text": [
      "3718\n",
      "196\n",
      "[[('New', 'NOUN'), ('York-based', 'ADJ'), ('Alleghany', 'NOUN'), ('is', 'VERB'), ('an', 'DET'), ('insurance', 'NOUN'), ('and', 'CONJ'), ('financial', 'ADJ'), ('services', 'NOUN'), ('concern', 'NOUN'), ('.', '.')], [('The', 'DET'), ('ailing', 'VERB'), ('company', 'NOUN'), (',', '.'), ('which', 'DET'), ('*T*-236', 'X'), ('has', 'VERB'), ('reported', 'VERB'), ('net', 'ADJ'), ('losses', 'NOUN'), ('for', 'ADP'), ('16', 'NUM'), ('consecutive', 'ADJ'), ('quarters', 'NOUN'), (',', '.'), ('said', 'VERB'), ('0', 'X'), ('it', 'PRON'), ('wo', 'VERB'), (\"n't\", 'ADV'), ('manufacture', 'VERB'), ('network', 'NOUN'), ('computer', 'NOUN'), ('systems', 'NOUN'), ('any', 'ADV'), ('more', 'ADJ'), ('and', 'CONJ'), ('will', 'VERB'), ('greatly', 'ADV'), ('reduce', 'VERB'), ('its', 'PRON'), ('costly', 'ADJ'), ('direct', 'ADJ'), ('sales', 'NOUN'), ('force', 'NOUN'), ('.', '.')], [('Ed', 'NOUN'), ('Macheski', 'NOUN'), (',', '.'), ('a', 'DET'), ('Wilton', 'NOUN'), (',', '.'), ('Conn.', 'NOUN'), (',', '.'), ('money', 'NOUN'), ('manager', 'NOUN'), ('who', 'PRON'), ('*T*-120', 'X'), ('follows', 'VERB'), ('bank', 'NOUN'), ('stocks', 'NOUN'), (',', '.'), ('said', 'VERB'), ('0', 'X'), ('the', 'DET'), ('announcement', 'NOUN'), ('effectively', 'ADV'), ('gives', 'VERB'), ('the', 'DET'), ('deal', 'NOUN'), ('``', '.'), ('the', 'DET'), ('green', 'ADJ'), ('light', 'NOUN'), ('.', '.'), (\"''\", '.')], [('The', 'DET'), ('Food', 'NOUN'), ('and', 'CONJ'), ('Drug', 'NOUN'), ('Administration', 'NOUN'), ('allowed', 'VERB'), ('the', 'DET'), ('company', 'NOUN'), ('to', 'PRT'), ('begin', 'VERB'), ('*-1', 'X'), ('marketing', 'VERB'), ('a', 'DET'), ('new', 'ADJ'), ('lens', 'NOUN'), ('for', 'ADP'), ('use', 'NOUN'), ('in', 'ADP'), ('cataract', 'NOUN'), ('patients', 'NOUN'), ('.', '.')], [('For', 'ADP'), ('10', 'NUM'), ('years', 'NOUN'), (',', '.'), ('Genie', 'NOUN'), ('Driskill', 'NOUN'), ('went', 'VERB'), ('to', 'PRT'), ('her', 'PRON'), ('neighborhood', 'NOUN'), ('bank', 'NOUN'), ('because', 'ADP'), ('it', 'PRON'), ('was', 'VERB'), ('convenient', 'ADJ'), ('.', '.')], [('Shortly', 'ADV'), ('afterwards', 'ADV'), (',', '.'), ('Mr.', 'NOUN'), ('Bush', 'NOUN'), ('imposed', 'VERB'), ('a', 'DET'), ('series', 'NOUN'), ('of', 'ADP'), ('anti-China', 'ADJ'), ('sanctions', 'NOUN'), (',', '.'), ('including', 'VERB'), ('suspension', 'NOUN'), ('of', 'ADP'), ('most', 'ADJ'), ('high-level', 'ADJ'), ('talks', 'NOUN'), (',', '.'), ('which', 'DET'), ('*T*-1', 'X'), ('could', 'VERB'), ('be', 'VERB'), ('codified', 'VERB'), ('*-147', 'X'), ('in', 'ADP'), ('U.S.', 'NOUN'), ('congressional', 'ADJ'), ('legislation', 'NOUN'), ('in', 'ADP'), ('the', 'DET'), ('coming', 'VERB'), ('weeks', 'NOUN'), ('.', '.')], [('``', '.'), ('I', 'PRON'), (\"'m\", 'VERB'), ('starting', 'VERB'), ('*-1', 'X'), ('to', 'PRT'), ('see', 'VERB'), ('more', 'ADJ'), ('business', 'NOUN'), ('transactions', 'NOUN'), (',', '.'), (\"''\", '.'), ('says', 'VERB'), ('*T*-2', 'X'), ('Andrea', 'NOUN'), ('West', 'NOUN'), ('of', 'ADP'), ('American', 'NOUN'), ('Telephone', 'NOUN'), ('&', 'CONJ'), ('Telegraph', 'NOUN'), ('Co.', 'NOUN'), (',', '.'), ('*-3', 'X'), ('noting', 'VERB'), ('growing', 'VERB'), ('interest', 'NOUN'), ('in', 'ADP'), ('use', 'NOUN'), ('of', 'ADP'), ('900', 'NUM'), ('service', 'NOUN'), ('for', 'ADP'), ('stock', 'NOUN'), ('sales', 'NOUN'), (',', '.'), ('software', 'NOUN'), ('tutorials', 'NOUN'), ('and', 'CONJ'), ('even', 'ADV'), ('service', 'NOUN'), ('contracts', 'NOUN'), ('.', '.')], [('Also', 'ADV'), (',', '.'), ('a', 'DET'), ('Communist', 'NOUN'), ('official', 'NOUN'), ('for', 'ADP'), ('the', 'DET'), ('first', 'ADJ'), ('time', 'NOUN'), ('said', 'VERB'), ('0', 'X'), ('the', 'DET'), ('future', 'NOUN'), ('of', 'ADP'), ('the', 'DET'), ('Berlin', 'NOUN'), ('Wall', 'NOUN'), ('could', 'VERB'), ('be', 'VERB'), ('open', 'ADJ'), ('to', 'PRT'), ('discussion', 'NOUN'), ('.', '.')], [('The', 'DET'), ('more', 'ADJ'), ('accounts', 'NOUN'), ('0', 'X'), ('customers', 'NOUN'), ('have', 'VERB'), ('*T*-1', 'X'), (',', '.'), ('Mr.', 'NOUN'), ('Sullivan', 'NOUN'), ('says', 'VERB'), ('0', 'X'), ('*T*-2', 'X'), (',', '.'), ('the', 'DET'), ('more', 'ADV'), ('likely', 'ADJ'), ('they', 'PRON'), ('are', 'VERB'), ('*-3', 'X'), ('to', 'PRT'), ('be', 'VERB'), ('attracted', 'VERB'), ('*-123', 'X'), ('to', 'PRT'), ('a', 'DET'), ('package', 'NOUN'), ('--', '.'), ('and', 'NOUN'), ('*-3', 'X'), ('to', 'PRT'), ('be', 'VERB'), ('loyal', 'ADJ'), ('to', 'PRT'), ('the', 'DET'), ('bank', 'NOUN'), ('that', 'DET'), ('*T*-205', 'X'), ('offers', 'VERB'), ('it', 'PRON'), ('.', '.')], [('President', 'NOUN'), ('Bush', 'NOUN'), ('should', 'VERB'), ('set', 'VERB'), ('things', 'NOUN'), ('straight', 'ADV'), ('.', '.')], [('``', '.'), ('It', 'PRON'), (\"'s\", 'VERB'), ('the', 'DET'), ('type', 'NOUN'), ('of', 'ADP'), ('nervous', 'ADJ'), ('atmosphere', 'NOUN'), ('in', 'ADP'), ('which', 'DET'), ('a', 'DET'), ('report', 'NOUN'), ('*ICH*-1', 'X'), ('can', 'VERB'), ('be', 'VERB'), ('put', 'VERB'), ('out', 'PRT'), ('*-6', 'X'), ('*T*-2', 'X'), (',', '.'), ('such', 'ADJ'), ('as', 'ADP'), ('the', 'DET'), ('one', 'NUM'), ('saying', 'VERB'), ('0', 'X'), ('exports', 'NOUN'), ('will', 'VERB'), ('be', 'VERB'), ('suspended', 'VERB'), ('*-7', 'X'), (',', '.'), ('and', 'CONJ'), ('no', 'DET'), ('one', 'NOUN'), ('can', 'VERB'), ('confirm', 'VERB'), ('it', 'PRON'), ('.', '.'), (\"''\", '.')], [('Mr.', 'NOUN'), ('Bodner', 'NOUN'), ('declines', 'VERB'), ('*-1', 'X'), ('to', 'PRT'), ('comment', 'VERB'), ('on', 'ADP'), ('the', 'DET'), ('arrangement', 'NOUN'), ('.', '.')], [('The', 'DET'), ('French', 'ADJ'), ('film', 'NOUN'), ('maker', 'NOUN'), ('Claude', 'NOUN'), ('Chabrol', 'NOUN'), ('has', 'VERB'), ('managed', 'VERB'), ('another', 'DET'), ('kind', 'NOUN'), ('of', 'ADP'), ('weird', 'ADJ'), ('achievement', 'NOUN'), ('with', 'ADP'), ('his', 'PRON'), ('``', '.'), ('Story', 'NOUN'), ('of', 'ADP'), ('Women', 'NOUN'), ('.', '.'), (\"''\", '.')], [('Mr.', 'NOUN'), ('Phelan', 'NOUN'), ('said', 'VERB'), ('0', 'X'), ('the', 'DET'), ('Big', 'NOUN'), ('Board', 'NOUN'), ('is', 'VERB'), ('likely', 'ADJ'), ('*-1', 'X'), ('to', 'PRT'), ('study', 'VERB'), ('the', 'DET'), ('program-trading', 'ADJ'), ('issue', 'NOUN'), ('.', '.')], [('And', 'CONJ'), ('*-1', 'X'), ('most', 'ADV'), ('disturbing', 'ADJ'), (',', '.'), ('it', 'PRON'), ('is', 'VERB'), ('educators', 'NOUN'), (',', '.'), ('not', 'ADV'), ('students', 'NOUN'), (',', '.'), ('who', 'PRON'), ('*T*-84', 'X'), ('are', 'VERB'), ('blamed', 'VERB'), ('*-2', 'X'), ('for', 'ADP'), ('much', 'ADV'), ('of', 'ADP'), ('the', 'DET'), ('wrongdoing', 'NOUN'), ('.', '.')], [('The', 'DET'), ('$', '.'), ('35.7', 'NUM'), ('million', 'NUM'), ('*U*', 'X'), ('net', 'ADJ'), ('loss', 'NOUN'), ('equals', 'VERB'), ('86', 'NUM'), ('cents', 'NOUN'), ('a', 'DET'), ('share', 'NOUN'), ('.', '.')], [('Dodge', 'NOUN'), ('reported', 'VERB'), ('an', 'DET'), ('8', 'NUM'), ('%', 'NOUN'), ('increase', 'NOUN'), ('in', 'ADP'), ('construction', 'NOUN'), ('contracts', 'NOUN'), ('awarded', 'VERB'), ('*', 'X'), ('in', 'ADP'), ('September', 'NOUN'), ('.', '.')], [('The', 'DET'), ('battery', 'NOUN'), ('plant', 'NOUN'), (',', '.'), ('which', 'DET'), ('*T*-2', 'X'), ('makes', 'VERB'), ('rechargeable', 'ADJ'), ('nickel', 'NOUN'), ('cadmium', 'NOUN'), ('and', 'CONJ'), ('carbon', 'NOUN'), ('zinc', 'NOUN'), ('products', 'NOUN'), (',', '.'), ('will', 'VERB'), ('be', 'VERB'), ('closed', 'VERB'), ('*-1', 'X'), ('over', 'ADP'), ('the', 'DET'), ('next', 'ADJ'), ('year', 'NOUN'), ('or', 'CONJ'), ('so', 'ADV'), (',', '.'), ('a', 'DET'), ('spokesman', 'NOUN'), ('said', 'VERB'), ('0', 'X'), ('*T*-3', 'X'), ('.', '.')], [('The', 'DET'), ('statistics', 'NOUN'), ('imply', 'VERB'), ('that', 'ADP'), ('three-quarters', 'NOUN'), ('of', 'ADP'), ('blacks', 'NOUN'), ('approve', 'VERB'), ('of', 'ADP'), ('Mr.', 'NOUN'), ('Bush', 'NOUN'), (\"'s\", 'PRT'), ('job', 'NOUN'), ('performance', 'NOUN'), ('and', 'CONJ'), ('85', 'NUM'), ('%', 'NOUN'), ('of', 'ADP'), ('blacks', 'NOUN'), ('approve', 'VERB'), ('of', 'ADP'), ('Mrs.', 'NOUN'), ('Bush', 'NOUN'), ('.', '.')], [('The', 'DET'), ('deal', 'NOUN'), ('is', 'VERB'), ('chiefly', 'ADV'), ('designed', 'VERB'), ('*-1', 'X'), ('*-3', 'X'), ('to', 'PRT'), ('give', 'VERB'), ('Mitsubishi', 'NOUN'), ('a', 'DET'), ('window', 'NOUN'), ('on', 'ADP'), ('the', 'DET'), ('U.S.', 'NOUN'), ('glass', 'NOUN'), ('industry', 'NOUN'), (',', '.'), ('says', 'VERB'), ('*T*-2', 'X'), ('Ichiro', 'NOUN'), ('Wakui', 'NOUN'), (',', '.'), ('an', 'DET'), ('executive', 'NOUN'), ('in', 'ADP'), ('Mitsubishi', 'NOUN'), (\"'s\", 'PRT'), ('general', 'ADJ'), ('merchandise', 'NOUN'), ('department', 'NOUN'), ('in', 'ADP'), ('New', 'NOUN'), ('York', 'NOUN'), ('.', '.')], [('The', 'DET'), ('truck', 'NOUN'), ('maker', 'NOUN'), ('said', 'VERB'), ('0', 'X'), ('the', 'DET'), ('significant', 'ADJ'), ('drop', 'NOUN'), ('in', 'ADP'), ('net', 'ADJ'), ('income', 'NOUN'), ('will', 'VERB'), ('result', 'VERB'), ('in', 'ADP'), ('lower', 'ADJ'), ('earnings', 'NOUN'), ('for', 'ADP'), ('the', 'DET'), ('fiscal', 'ADJ'), ('year', 'NOUN'), ('.', '.')], [('Proponents', 'NOUN'), ('of', 'ADP'), ('the', 'DET'), ('funding', 'NOUN'), ('arrangement', 'NOUN'), ('predict', 'VERB'), ('that', 'ADP'), (',', '.'), ('based', 'VERB'), ('on', 'ADP'), ('recent', 'ADJ'), ('filing', 'NOUN'), ('levels', 'NOUN'), ('of', 'ADP'), ('more', 'ADJ'), ('than', 'ADP'), ('2,000', 'NUM'), ('a', 'DET'), ('year', 'NOUN'), (',', '.'), ('the', 'DET'), ('fees', 'NOUN'), ('will', 'VERB'), ('yield', 'VERB'), ('at', 'ADP'), ('least', 'ADJ'), ('$', '.'), ('40', 'NUM'), ('million', 'NUM'), ('*U*', 'X'), ('*ICH*-1', 'X'), ('this', 'DET'), ('fiscal', 'ADJ'), ('year', 'NOUN'), (',', '.'), ('or', 'CONJ'), ('$', '.'), ('10', 'NUM'), ('million', 'NUM'), ('*U*', 'X'), ('more', 'ADJ'), ('than', 'ADP'), ('the', 'DET'), ('budget', 'NOUN'), ('cuts', 'NOUN'), ('.', '.')], [('It', 'PRON'), ('was', 'VERB'), ('censorship', 'NOUN'), ('.', '.')], [('Last', 'ADJ'), ('October', 'NOUN'), (',', '.'), ('the', 'DET'), ('company', 'NOUN'), ('also', 'ADV'), ('bought', 'VERB'), ('a', 'DET'), ('wheel-loader', 'ADJ'), ('manufacturing', 'NOUN'), ('plant', 'NOUN'), ('in', 'ADP'), ('Heidelberg', 'NOUN'), (',', '.'), ('West', 'NOUN'), ('Germany', 'NOUN'), (',', '.'), ('from', 'ADP'), ('Dresser', 'NOUN'), ('.', '.')], [('Waertsilae', 'NOUN'), ('Marine', 'NOUN'), (\"'s\", 'PRT'), ('biggest', 'ADJ'), ('creditor', 'NOUN'), ('is', 'VERB'), ('Miami-based', 'ADJ'), ('Carnival', 'NOUN'), ('Cruise', 'NOUN'), ('Lines', 'NOUN'), ('Inc', 'NOUN'), ('.', '.')], [('MERRILL', 'NOUN'), ('LYNCH', 'NOUN'), ('READY', 'NOUN'), ('ASSETS', 'NOUN'), ('TRUST', 'NOUN'), (':', '.'), ('8.64', 'NUM'), ('%', 'NOUN'), ('.', '.')], [('The', 'DET'), ('discount', 'NOUN'), ('rate', 'NOUN'), ('on', 'ADP'), ('three-month', 'ADJ'), ('Treasury', 'NOUN'), ('bills', 'NOUN'), ('was', 'VERB'), ('essentially', 'ADV'), ('unchanged', 'ADJ'), ('at', 'ADP'), ('7.79', 'NUM'), ('%', 'NOUN'), (',', '.'), ('while', 'ADP'), ('the', 'DET'), ('rate', 'NOUN'), ('on', 'ADP'), ('six-month', 'ADJ'), ('bills', 'NOUN'), ('was', 'VERB'), ('slightly', 'ADV'), ('lower', 'ADJ'), ('at', 'ADP'), ('7.52', 'NUM'), ('%', 'NOUN'), ('compared', 'VERB'), ('with', 'ADP'), ('7.60', 'NUM'), ('%', 'NOUN'), ('Tuesday', 'NOUN'), ('.', '.')], [('Judie', 'NOUN'), ('MacDonald', 'NOUN'), (',', '.'), ('vice', 'NOUN'), ('president', 'NOUN'), ('of', 'ADP'), ('retail', 'ADJ'), ('sales', 'NOUN'), ('at', 'ADP'), ('Barnett', 'NOUN'), ('Banks', 'NOUN'), ('Inc.', 'NOUN'), ('of', 'ADP'), ('Jacksonville', 'NOUN'), (',', '.'), ('Fla.', 'NOUN'), (',', '.'), ('says', 'VERB'), ('0', 'X'), ('the', 'DET'), ('company', 'NOUN'), ('now', 'ADV'), ('targets', 'VERB'), ('sub-segments', 'NOUN'), ('within', 'ADP'), ('the', 'DET'), ('market', 'NOUN'), ('by', 'ADP'), ('*-1', 'X'), ('tailoring', 'VERB'), ('its', 'PRON'), ('popular', 'ADJ'), ('Seniors', 'NOUN'), ('Partners', 'NOUN'), ('Program', 'NOUN'), ('to', 'PRT'), ('various', 'ADJ'), ('life', 'NOUN'), ('styles', 'NOUN'), ('.', '.')], [('E.', 'NOUN'), ('Guigal', 'NOUN'), (\"'s\", 'PRT'), ('1982', 'NUM'), ('Cote', 'NOUN'), ('Rotie', 'NOUN'), ('La', 'NOUN'), ('Landonne', 'NOUN'), (',', '.'), ('for', 'ADP'), ('example', 'NOUN'), (',', '.'), ('is', 'VERB'), ('$', '.'), ('120', 'NUM'), ('*U*', 'X'), ('.', '.')], [('The', 'DET'), ('other', 'ADJ'), ('side', 'NOUN'), (',', '.'), ('he', 'PRON'), ('argues', 'VERB'), ('0', 'X'), ('*T*-1', 'X'), (',', '.'), ('``', '.'), ('knows', 'VERB'), ('0', 'X'), ('Giuliani', 'NOUN'), ('has', 'VERB'), ('always', 'ADV'), ('been', 'VERB'), ('pro-choice', 'ADJ'), (',', '.'), ('even', 'ADV'), ('though', 'ADP'), ('he', 'PRON'), ('has', 'VERB'), ('personal', 'ADJ'), ('reservations', 'NOUN'), ('.', '.')], [('``', '.'), ('It', 'PRON'), (\"'s\", 'VERB'), ('not', 'ADV'), ('a', 'DET'), ('very', 'ADV'), ('meaningful', 'ADJ'), ('indicator', 'NOUN'), ('currently', 'ADV'), ('because', 'ADP'), ('corporations', 'NOUN'), ('are', 'VERB'), ('not', 'ADV'), ('behaving', 'VERB'), ('in', 'ADP'), ('a', 'DET'), ('traditional', 'ADJ'), ('manner', 'NOUN'), (',', '.'), (\"''\", '.'), ('says', 'VERB'), ('*T*-1', 'X'), ('James', 'NOUN'), ('H.', 'NOUN'), ('Coxon', 'NOUN'), (',', '.'), ('head', 'NOUN'), ('of', 'ADP'), ('stock', 'NOUN'), ('investments', 'NOUN'), ('for', 'ADP'), ('Cigna', 'NOUN'), ('Corp.', 'NOUN'), (',', '.'), ('the', 'DET'), ('Philadelphia-based', 'ADJ'), ('insurer', 'NOUN'), ('.', '.')], [('Jaguar', 'NOUN'), (',', '.'), ('a', 'DET'), ('U.K.', 'NOUN'), ('luxury', 'NOUN'), ('auto', 'NOUN'), ('maker', 'NOUN'), ('being', 'VERB'), ('pursued', 'VERB'), ('*', 'X'), ('by', 'ADP'), ('Ford', 'NOUN'), ('Motor', 'NOUN'), ('and', 'CONJ'), ('General', 'NOUN'), ('Motors', 'NOUN'), (',', '.'), ('gained', 'VERB'), ('10', 'NUM'), ('pence', 'NOUN'), ('-LRB-', '.'), ('16', 'NUM'), ('cents', 'NOUN'), ('-RRB-', '.'), ('a', 'DET'), ('share', 'NOUN'), ('*-1', 'X'), ('to', 'PRT'), ('close', 'VERB'), ('at', 'ADP'), ('879', 'NUM'), ('pence', 'NOUN'), ('-LRB-', '.'), ('$', '.'), ('13.90', 'NUM'), ('*U*', 'X'), ('-RRB-', '.'), ('.', '.')], [('Mr.', 'NOUN'), ('Oxnard', 'NOUN'), ('observed', 'VERB'), ('that', 'ADP'), ('the', 'DET'), ('situation', 'NOUN'), ('in', 'ADP'), ('Brazil', 'NOUN'), ('is', 'VERB'), ('also', 'ADV'), ('very', 'ADV'), ('complicated', 'VERB'), ('.', '.')], [('Upjohn', 'NOUN'), ('Co.', 'NOUN'), ('said', 'VERB'), ('0', 'X'), ('it', 'PRON'), ('will', 'VERB'), ('offer', 'VERB'), ('an', 'DET'), ('early', 'ADJ'), ('retirement', 'NOUN'), ('package', 'NOUN'), ('to', 'PRT'), ('as', 'ADV'), ('many', 'ADJ'), ('as', 'ADP'), ('1,100', 'NUM'), ('employees', 'NOUN'), ('in', 'ADP'), ('a', 'DET'), ('cost-cutting', 'ADJ'), ('move', 'NOUN'), ('expected', 'VERB'), ('*', 'X'), ('to', 'PRT'), ('result', 'VERB'), ('in', 'ADP'), ('a', 'DET'), ('fourth-quarter', 'NOUN'), ('charge', 'NOUN'), ('.', '.')], [('Odyssey', 'NOUN'), ('Partners', 'NOUN'), ('Limited', 'NOUN'), ('Partnership', 'NOUN'), (',', '.'), ('an', 'DET'), ('investment', 'NOUN'), ('firm', 'NOUN'), (',', '.'), ('completed', 'VERB'), ('the', 'DET'), ('purchase', 'NOUN'), ('of', 'ADP'), ('May', 'NOUN'), ('Department', 'NOUN'), ('Stores', 'NOUN'), ('Co.', 'NOUN'), (\"'s\", 'PRT'), ('Caldor', 'NOUN'), ('discount', 'NOUN'), ('chain', 'NOUN'), ('for', 'ADP'), ('$', '.'), ('500', 'NUM'), ('million', 'NUM'), ('*U*', 'X'), ('plus', 'CONJ'), ('the', 'DET'), ('assumption', 'NOUN'), ('of', 'ADP'), ('$', '.'), ('52', 'NUM'), ('million', 'NUM'), ('*U*', 'X'), ('in', 'ADP'), ('debt', 'NOUN'), ('.', '.')], [('BTR', 'NOUN'), ('PLC', 'NOUN'), (',', '.'), ('a', 'DET'), ('U.K.', 'NOUN'), ('industrial', 'ADJ'), ('conglomerate', 'NOUN'), (',', '.'), ('said', 'VERB'), ('in', 'ADP'), ('June', 'NOUN'), ('0', 'X'), ('it', 'PRON'), ('had', 'VERB'), ('sold', 'VERB'), ('its', 'PRON'), ('National', 'NOUN'), ('Tyre', 'NOUN'), ('Service', 'NOUN'), ('business', 'NOUN'), ('to', 'PRT'), ('Michelin', 'NOUN'), ('Investment', 'NOUN'), ('Ltd.', 'NOUN'), (',', '.'), ('a', 'DET'), ('U.K.', 'NOUN'), ('unit', 'NOUN'), ('of', 'ADP'), ('the', 'DET'), ('tire', 'NOUN'), ('maker', 'NOUN'), (',', '.'), ('for', 'ADP'), ('#', '.'), ('140', 'NUM'), ('million', 'NUM'), ('*U*', 'X'), ('-LRB-', '.'), ('$', '.'), ('221.4', 'NUM'), ('million', 'NUM'), ('*U*', 'X'), ('-RRB-', '.'), ('.', '.')], [('Japanese', 'ADJ'), ('companies', 'NOUN'), ('have', 'VERB'), ('long', 'ADV'), ('had', 'VERB'), ('a', 'DET'), ('reputation', 'NOUN'), ('for', 'ADP'), ('*-2', 'X'), ('sacrificing', 'VERB'), ('short-term', 'ADJ'), ('profits', 'NOUN'), ('*-1', 'X'), ('to', 'PRT'), ('make', 'VERB'), ('a', 'DET'), ('sale', 'NOUN'), ('that', 'DET'), ('*T*-140', 'X'), ('may', 'VERB'), ('have', 'VERB'), ('long-term', 'ADJ'), ('benefits', 'NOUN'), ('.', '.')], [('First', 'ADJ'), (',', '.'), ('the', 'DET'), ('trading', 'NOUN'), ('is', 'VERB'), ('done', 'VERB'), ('*-1', 'X'), ('over', 'ADP'), ('the', 'DET'), ('counter', 'NOUN'), ('and', 'CONJ'), ('is', 'VERB'), (\"n't\", 'ADV'), ('reported', 'VERB'), ('*-1', 'X'), ('on', 'ADP'), ('either', 'CONJ'), ('the', 'DET'), ('U.S.', 'NOUN'), ('or', 'CONJ'), ('London', 'NOUN'), ('stock', 'NOUN'), ('trading', 'NOUN'), ('tapes', 'NOUN'), ('.', '.')], [('He', 'PRON'), ('also', 'ADV'), ('is', 'VERB'), ('a', 'DET'), ('consensus', 'NOUN'), ('manager', 'NOUN'), (',', '.'), ('insiders', 'NOUN'), ('say', 'VERB'), ('0', 'X'), ('*T*-1', 'X'), ('.', '.')], [('Associates', 'NOUN'), ('say', 'VERB'), ('0', 'X'), ('Mr.', 'NOUN'), ('Hahn', 'NOUN'), ('picked', 'VERB'), ('up', 'PRT'), ('that', 'DET'), ('careful', 'ADJ'), ('approach', 'NOUN'), ('to', 'PRT'), ('management', 'NOUN'), ('as', 'ADP'), ('president', 'NOUN'), ('of', 'ADP'), ('Virginia', 'NOUN'), ('Polytechnic', 'NOUN'), ('Institute', 'NOUN'), ('.', '.')]]\n"
     ]
    }
   ],
   "source": [
    "# Splitting into train and validation set in the ratio 95:5\n",
    "random.seed(1234)\n",
    "train_set, test_set = train_test_split(nltk_data,train_size=0.95, test_size=0.05)\n",
    "\n",
    "print(len(train_set))\n",
    "print(len(test_set))\n",
    "print(train_set[:40])"
   ]
  },
  {
   "cell_type": "code",
   "execution_count": 5,
   "metadata": {},
   "outputs": [
    {
     "name": "stdout",
     "output_type": "stream",
     "text": [
      "Train tagged words - 95559\n",
      "Test tagged words - 5117\n"
     ]
    }
   ],
   "source": [
    "# Getting list of train tagged words and test tagged words\n",
    "train_tagged_words = [tup for sent in train_set for tup in sent]\n",
    "print('Train tagged words -' ,len(train_tagged_words))\n",
    "\n",
    "test_tagged_words = [tup for sent in test_set for tup in sent]\n",
    "print('Test tagged words -' ,len(test_tagged_words))"
   ]
  },
  {
   "cell_type": "code",
   "execution_count": 6,
   "metadata": {},
   "outputs": [
    {
     "data": {
      "text/plain": [
       "[('New', 'NOUN'),\n",
       " ('York-based', 'ADJ'),\n",
       " ('Alleghany', 'NOUN'),\n",
       " ('is', 'VERB'),\n",
       " ('an', 'DET'),\n",
       " ('insurance', 'NOUN'),\n",
       " ('and', 'CONJ'),\n",
       " ('financial', 'ADJ'),\n",
       " ('services', 'NOUN'),\n",
       " ('concern', 'NOUN'),\n",
       " ('.', '.'),\n",
       " ('The', 'DET'),\n",
       " ('ailing', 'VERB'),\n",
       " ('company', 'NOUN'),\n",
       " (',', '.'),\n",
       " ('which', 'DET'),\n",
       " ('*T*-236', 'X'),\n",
       " ('has', 'VERB'),\n",
       " ('reported', 'VERB'),\n",
       " ('net', 'ADJ')]"
      ]
     },
     "execution_count": 6,
     "metadata": {},
     "output_type": "execute_result"
    }
   ],
   "source": [
    "#Lets check the train tagged words\n",
    "train_tagged_words[:20]"
   ]
  },
  {
   "cell_type": "code",
   "execution_count": 7,
   "metadata": {},
   "outputs": [
    {
     "data": {
      "text/plain": [
       "['New',\n",
       " 'York-based',\n",
       " 'Alleghany',\n",
       " 'is',\n",
       " 'an',\n",
       " 'insurance',\n",
       " 'and',\n",
       " 'financial',\n",
       " 'services',\n",
       " 'concern']"
      ]
     },
     "execution_count": 7,
     "metadata": {},
     "output_type": "execute_result"
    }
   ],
   "source": [
    "#Tokens in the train tagged words\n",
    "tokens = [pair[0] for pair in train_tagged_words]\n",
    "tokens[:10]"
   ]
  },
  {
   "cell_type": "code",
   "execution_count": 8,
   "metadata": {},
   "outputs": [
    {
     "name": "stdout",
     "output_type": "stream",
     "text": [
      "12098\n"
     ]
    }
   ],
   "source": [
    "#Also checking the vocabulary\n",
    "vocab = set(tokens)\n",
    "print(len(vocab))"
   ]
  },
  {
   "cell_type": "code",
   "execution_count": 9,
   "metadata": {},
   "outputs": [
    {
     "name": "stdout",
     "output_type": "stream",
     "text": [
      "No.tags present in the train tagged set 12\n"
     ]
    }
   ],
   "source": [
    "# checking the no. of tags and tags\n",
    "tags = set([pair[1] for pair in train_tagged_words])\n",
    "print('No.tags present in the train tagged set',len(tags))"
   ]
  },
  {
   "cell_type": "code",
   "execution_count": 10,
   "metadata": {},
   "outputs": [
    {
     "name": "stdout",
     "output_type": "stream",
     "text": [
      "{'DET', '.', 'NOUN', 'PRON', 'CONJ', 'VERB', 'X', 'ADJ', 'ADV', 'NUM', 'ADP', 'PRT'}\n"
     ]
    }
   ],
   "source": [
    "#Print the tags present\n",
    "print(tags)"
   ]
  },
  {
   "cell_type": "markdown",
   "metadata": {},
   "source": [
    "### Build the vanilla Viterbi based POS tagger"
   ]
  },
  {
   "cell_type": "markdown",
   "metadata": {},
   "source": [
    "*Functions for computing the emission probabilty and transition probability for given words*"
   ]
  },
  {
   "cell_type": "code",
   "execution_count": 11,
   "metadata": {},
   "outputs": [],
   "source": [
    "# computing P(w/t) and storing in T x V matrix\n",
    "t = len(tags)\n",
    "v = len(vocab)\n",
    "w_given_t = np.zeros((t, v))"
   ]
  },
  {
   "cell_type": "code",
   "execution_count": 12,
   "metadata": {},
   "outputs": [],
   "source": [
    "# function to calculate emission probability\n",
    "def word_given_tag(word, tag, train_bag = train_tagged_words):\n",
    "    tag_list = [pair for pair in train_bag if pair[1]==tag]\n",
    "    count_tag = len(tag_list)\n",
    "    w_given_tag_list = [pair[0] for pair in tag_list if pair[0]==word]\n",
    "    count_w_given_tag = len(w_given_tag_list)\n",
    "    \n",
    "    return (count_w_given_tag, count_tag)"
   ]
  },
  {
   "cell_type": "code",
   "execution_count": 13,
   "metadata": {},
   "outputs": [],
   "source": [
    "# function to calculate transition probability\n",
    "\n",
    "def t2_given_t1(t2, t1, train_bag = train_tagged_words):\n",
    "    tags = [pair[1] for pair in train_bag]\n",
    "    count_t1 = len([t for t in tags if t==t1])\n",
    "    count_t2_t1 = 0\n",
    "    for index in range(len(tags)-1):\n",
    "        if tags[index]==t1 and tags[index+1] == t2:\n",
    "            count_t2_t1 += 1\n",
    "    return (count_t2_t1, count_t1)"
   ]
  },
  {
   "cell_type": "code",
   "execution_count": 14,
   "metadata": {},
   "outputs": [],
   "source": [
    "# creating t x t transition matrix of tags\n",
    "# each column is t2, each row is t1\n",
    "# thus M(i, j) represents P(tj given ti)\n",
    "\n",
    "tags_matrix = np.zeros((len(tags), len(tags)), dtype='float32')\n",
    "for i, t1 in enumerate(list(tags)):\n",
    "    for j, t2 in enumerate(list(tags)): \n",
    "        tags_matrix[i, j] = t2_given_t1(t2, t1)[0]/t2_given_t1(t2, t1)[1]"
   ]
  },
  {
   "cell_type": "code",
   "execution_count": 15,
   "metadata": {},
   "outputs": [
    {
     "data": {
      "text/plain": [
       "array([[5.55153284e-03, 1.77407674e-02, 6.36615992e-01, 3.74125037e-03,\n",
       "        4.82741976e-04, 3.91020998e-02, 4.50156890e-02, 2.07458362e-01,\n",
       "        1.27926627e-02, 2.20854450e-02, 9.17209778e-03, 2.41370988e-04],\n",
       "       [1.74292922e-01, 9.30463001e-02, 2.23112956e-01, 6.54836968e-02,\n",
       "        5.86380847e-02, 8.79120901e-02, 2.73824539e-02, 4.42262664e-02,\n",
       "        5.21527641e-02, 8.04359540e-02, 9.07944515e-02, 2.43199430e-03],\n",
       "       [1.32653061e-02, 2.39905253e-01, 2.64030606e-01, 4.77405265e-03,\n",
       "        4.24198247e-02, 1.46865889e-01, 2.88629737e-02, 1.18440231e-02,\n",
       "        1.69460643e-02, 9.54810530e-03, 1.77332357e-01, 4.42055389e-02],\n",
       "       [9.22367442e-03, 4.07378934e-02, 2.07148343e-01, 7.30207516e-03,\n",
       "        4.99615679e-03, 4.84242886e-01, 9.37740207e-02, 7.57109895e-02,\n",
       "        3.38201374e-02, 7.30207516e-03, 2.38278247e-02, 1.19139124e-02],\n",
       "       [1.20465115e-01, 3.44186053e-02, 3.46976757e-01, 5.67441843e-02,\n",
       "        4.65116289e-04, 1.56279072e-01, 8.83720908e-03, 1.20465115e-01,\n",
       "        5.39534874e-02, 4.27906960e-02, 5.34883738e-02, 5.11627924e-03],\n",
       "       [1.34002179e-01, 3.50754410e-02, 1.11292578e-01, 3.55420746e-02,\n",
       "        5.59962681e-03, 1.68844298e-01, 2.16829985e-01, 6.49401173e-02,\n",
       "        8.17389935e-02, 2.30206866e-02, 9.08383876e-02, 3.22756246e-02],\n",
       "       [5.36600985e-02, 1.63222805e-01, 6.13487102e-02, 5.70238680e-02,\n",
       "        1.00913020e-02, 2.06311062e-01, 7.41630644e-02, 1.69790164e-02,\n",
       "        2.61092428e-02, 2.72304984e-03, 1.44802183e-01, 1.83565587e-01],\n",
       "       [4.75877896e-03, 6.49819523e-02, 7.02166080e-01, 6.56383345e-04,\n",
       "        1.64095834e-02, 1.21430913e-02, 2.03478839e-02, 6.66229054e-02,\n",
       "        4.43058740e-03, 2.00196914e-02, 7.71250427e-02, 1.03380373e-02],\n",
       "       [7.01637119e-02, 1.34313405e-01, 3.34112942e-02, 1.53691946e-02,\n",
       "        7.01637147e-03, 3.48813891e-01, 2.33879052e-02, 1.26628801e-01,\n",
       "        7.78483152e-02, 3.14066149e-02, 1.17941864e-01, 1.36986300e-02],\n",
       "       [3.55977449e-03, 1.16879262e-01, 3.52714330e-01, 1.48323935e-03,\n",
       "        1.36458026e-02, 1.80955213e-02, 2.07356870e-01, 3.44111547e-02,\n",
       "        2.96647870e-03, 1.85701579e-01, 3.53010967e-02, 2.78849006e-02],\n",
       "       [3.24855745e-01, 3.88972014e-02, 3.22397947e-01, 6.91387057e-02,\n",
       "        8.54883518e-04, 8.44197441e-03, 3.47296447e-02, 1.06646717e-01,\n",
       "        1.31438337e-02, 6.27270788e-02, 1.67770889e-02, 1.38918578e-03],\n",
       "       [1.00914434e-01, 4.34356630e-02, 2.47550622e-01, 1.86152849e-02,\n",
       "        2.28608749e-03, 3.96799475e-01, 1.37165254e-02, 8.58915746e-02,\n",
       "        1.04506854e-02, 5.87851070e-02, 1.95950363e-02, 1.95950363e-03]],\n",
       "      dtype=float32)"
      ]
     },
     "execution_count": 15,
     "metadata": {},
     "output_type": "execute_result"
    }
   ],
   "source": [
    "#printing the tag matrix\n",
    "tags_matrix"
   ]
  },
  {
   "cell_type": "code",
   "execution_count": 16,
   "metadata": {},
   "outputs": [
    {
     "data": {
      "text/html": [
       "<div>\n",
       "<style scoped>\n",
       "    .dataframe tbody tr th:only-of-type {\n",
       "        vertical-align: middle;\n",
       "    }\n",
       "\n",
       "    .dataframe tbody tr th {\n",
       "        vertical-align: top;\n",
       "    }\n",
       "\n",
       "    .dataframe thead th {\n",
       "        text-align: right;\n",
       "    }\n",
       "</style>\n",
       "<table border=\"1\" class=\"dataframe\">\n",
       "  <thead>\n",
       "    <tr style=\"text-align: right;\">\n",
       "      <th></th>\n",
       "      <th>DET</th>\n",
       "      <th>.</th>\n",
       "      <th>NOUN</th>\n",
       "      <th>PRON</th>\n",
       "      <th>CONJ</th>\n",
       "      <th>VERB</th>\n",
       "      <th>X</th>\n",
       "      <th>ADJ</th>\n",
       "      <th>ADV</th>\n",
       "      <th>NUM</th>\n",
       "      <th>ADP</th>\n",
       "      <th>PRT</th>\n",
       "    </tr>\n",
       "  </thead>\n",
       "  <tbody>\n",
       "    <tr>\n",
       "      <th>DET</th>\n",
       "      <td>0.005552</td>\n",
       "      <td>0.017741</td>\n",
       "      <td>0.636616</td>\n",
       "      <td>0.003741</td>\n",
       "      <td>0.000483</td>\n",
       "      <td>0.039102</td>\n",
       "      <td>0.045016</td>\n",
       "      <td>0.207458</td>\n",
       "      <td>0.012793</td>\n",
       "      <td>0.022085</td>\n",
       "      <td>0.009172</td>\n",
       "      <td>0.000241</td>\n",
       "    </tr>\n",
       "    <tr>\n",
       "      <th>.</th>\n",
       "      <td>0.174293</td>\n",
       "      <td>0.093046</td>\n",
       "      <td>0.223113</td>\n",
       "      <td>0.065484</td>\n",
       "      <td>0.058638</td>\n",
       "      <td>0.087912</td>\n",
       "      <td>0.027382</td>\n",
       "      <td>0.044226</td>\n",
       "      <td>0.052153</td>\n",
       "      <td>0.080436</td>\n",
       "      <td>0.090794</td>\n",
       "      <td>0.002432</td>\n",
       "    </tr>\n",
       "    <tr>\n",
       "      <th>NOUN</th>\n",
       "      <td>0.013265</td>\n",
       "      <td>0.239905</td>\n",
       "      <td>0.264031</td>\n",
       "      <td>0.004774</td>\n",
       "      <td>0.042420</td>\n",
       "      <td>0.146866</td>\n",
       "      <td>0.028863</td>\n",
       "      <td>0.011844</td>\n",
       "      <td>0.016946</td>\n",
       "      <td>0.009548</td>\n",
       "      <td>0.177332</td>\n",
       "      <td>0.044206</td>\n",
       "    </tr>\n",
       "    <tr>\n",
       "      <th>PRON</th>\n",
       "      <td>0.009224</td>\n",
       "      <td>0.040738</td>\n",
       "      <td>0.207148</td>\n",
       "      <td>0.007302</td>\n",
       "      <td>0.004996</td>\n",
       "      <td>0.484243</td>\n",
       "      <td>0.093774</td>\n",
       "      <td>0.075711</td>\n",
       "      <td>0.033820</td>\n",
       "      <td>0.007302</td>\n",
       "      <td>0.023828</td>\n",
       "      <td>0.011914</td>\n",
       "    </tr>\n",
       "    <tr>\n",
       "      <th>CONJ</th>\n",
       "      <td>0.120465</td>\n",
       "      <td>0.034419</td>\n",
       "      <td>0.346977</td>\n",
       "      <td>0.056744</td>\n",
       "      <td>0.000465</td>\n",
       "      <td>0.156279</td>\n",
       "      <td>0.008837</td>\n",
       "      <td>0.120465</td>\n",
       "      <td>0.053953</td>\n",
       "      <td>0.042791</td>\n",
       "      <td>0.053488</td>\n",
       "      <td>0.005116</td>\n",
       "    </tr>\n",
       "    <tr>\n",
       "      <th>VERB</th>\n",
       "      <td>0.134002</td>\n",
       "      <td>0.035075</td>\n",
       "      <td>0.111293</td>\n",
       "      <td>0.035542</td>\n",
       "      <td>0.005600</td>\n",
       "      <td>0.168844</td>\n",
       "      <td>0.216830</td>\n",
       "      <td>0.064940</td>\n",
       "      <td>0.081739</td>\n",
       "      <td>0.023021</td>\n",
       "      <td>0.090838</td>\n",
       "      <td>0.032276</td>\n",
       "    </tr>\n",
       "    <tr>\n",
       "      <th>X</th>\n",
       "      <td>0.053660</td>\n",
       "      <td>0.163223</td>\n",
       "      <td>0.061349</td>\n",
       "      <td>0.057024</td>\n",
       "      <td>0.010091</td>\n",
       "      <td>0.206311</td>\n",
       "      <td>0.074163</td>\n",
       "      <td>0.016979</td>\n",
       "      <td>0.026109</td>\n",
       "      <td>0.002723</td>\n",
       "      <td>0.144802</td>\n",
       "      <td>0.183566</td>\n",
       "    </tr>\n",
       "    <tr>\n",
       "      <th>ADJ</th>\n",
       "      <td>0.004759</td>\n",
       "      <td>0.064982</td>\n",
       "      <td>0.702166</td>\n",
       "      <td>0.000656</td>\n",
       "      <td>0.016410</td>\n",
       "      <td>0.012143</td>\n",
       "      <td>0.020348</td>\n",
       "      <td>0.066623</td>\n",
       "      <td>0.004431</td>\n",
       "      <td>0.020020</td>\n",
       "      <td>0.077125</td>\n",
       "      <td>0.010338</td>\n",
       "    </tr>\n",
       "    <tr>\n",
       "      <th>ADV</th>\n",
       "      <td>0.070164</td>\n",
       "      <td>0.134313</td>\n",
       "      <td>0.033411</td>\n",
       "      <td>0.015369</td>\n",
       "      <td>0.007016</td>\n",
       "      <td>0.348814</td>\n",
       "      <td>0.023388</td>\n",
       "      <td>0.126629</td>\n",
       "      <td>0.077848</td>\n",
       "      <td>0.031407</td>\n",
       "      <td>0.117942</td>\n",
       "      <td>0.013699</td>\n",
       "    </tr>\n",
       "    <tr>\n",
       "      <th>NUM</th>\n",
       "      <td>0.003560</td>\n",
       "      <td>0.116879</td>\n",
       "      <td>0.352714</td>\n",
       "      <td>0.001483</td>\n",
       "      <td>0.013646</td>\n",
       "      <td>0.018096</td>\n",
       "      <td>0.207357</td>\n",
       "      <td>0.034411</td>\n",
       "      <td>0.002966</td>\n",
       "      <td>0.185702</td>\n",
       "      <td>0.035301</td>\n",
       "      <td>0.027885</td>\n",
       "    </tr>\n",
       "    <tr>\n",
       "      <th>ADP</th>\n",
       "      <td>0.324856</td>\n",
       "      <td>0.038897</td>\n",
       "      <td>0.322398</td>\n",
       "      <td>0.069139</td>\n",
       "      <td>0.000855</td>\n",
       "      <td>0.008442</td>\n",
       "      <td>0.034730</td>\n",
       "      <td>0.106647</td>\n",
       "      <td>0.013144</td>\n",
       "      <td>0.062727</td>\n",
       "      <td>0.016777</td>\n",
       "      <td>0.001389</td>\n",
       "    </tr>\n",
       "    <tr>\n",
       "      <th>PRT</th>\n",
       "      <td>0.100914</td>\n",
       "      <td>0.043436</td>\n",
       "      <td>0.247551</td>\n",
       "      <td>0.018615</td>\n",
       "      <td>0.002286</td>\n",
       "      <td>0.396799</td>\n",
       "      <td>0.013717</td>\n",
       "      <td>0.085892</td>\n",
       "      <td>0.010451</td>\n",
       "      <td>0.058785</td>\n",
       "      <td>0.019595</td>\n",
       "      <td>0.001960</td>\n",
       "    </tr>\n",
       "  </tbody>\n",
       "</table>\n",
       "</div>"
      ],
      "text/plain": [
       "           DET         .      NOUN      PRON      CONJ      VERB         X  \\\n",
       "DET   0.005552  0.017741  0.636616  0.003741  0.000483  0.039102  0.045016   \n",
       ".     0.174293  0.093046  0.223113  0.065484  0.058638  0.087912  0.027382   \n",
       "NOUN  0.013265  0.239905  0.264031  0.004774  0.042420  0.146866  0.028863   \n",
       "PRON  0.009224  0.040738  0.207148  0.007302  0.004996  0.484243  0.093774   \n",
       "CONJ  0.120465  0.034419  0.346977  0.056744  0.000465  0.156279  0.008837   \n",
       "VERB  0.134002  0.035075  0.111293  0.035542  0.005600  0.168844  0.216830   \n",
       "X     0.053660  0.163223  0.061349  0.057024  0.010091  0.206311  0.074163   \n",
       "ADJ   0.004759  0.064982  0.702166  0.000656  0.016410  0.012143  0.020348   \n",
       "ADV   0.070164  0.134313  0.033411  0.015369  0.007016  0.348814  0.023388   \n",
       "NUM   0.003560  0.116879  0.352714  0.001483  0.013646  0.018096  0.207357   \n",
       "ADP   0.324856  0.038897  0.322398  0.069139  0.000855  0.008442  0.034730   \n",
       "PRT   0.100914  0.043436  0.247551  0.018615  0.002286  0.396799  0.013717   \n",
       "\n",
       "           ADJ       ADV       NUM       ADP       PRT  \n",
       "DET   0.207458  0.012793  0.022085  0.009172  0.000241  \n",
       ".     0.044226  0.052153  0.080436  0.090794  0.002432  \n",
       "NOUN  0.011844  0.016946  0.009548  0.177332  0.044206  \n",
       "PRON  0.075711  0.033820  0.007302  0.023828  0.011914  \n",
       "CONJ  0.120465  0.053953  0.042791  0.053488  0.005116  \n",
       "VERB  0.064940  0.081739  0.023021  0.090838  0.032276  \n",
       "X     0.016979  0.026109  0.002723  0.144802  0.183566  \n",
       "ADJ   0.066623  0.004431  0.020020  0.077125  0.010338  \n",
       "ADV   0.126629  0.077848  0.031407  0.117942  0.013699  \n",
       "NUM   0.034411  0.002966  0.185702  0.035301  0.027885  \n",
       "ADP   0.106647  0.013144  0.062727  0.016777  0.001389  \n",
       "PRT   0.085892  0.010451  0.058785  0.019595  0.001960  "
      ]
     },
     "execution_count": 16,
     "metadata": {},
     "output_type": "execute_result"
    }
   ],
   "source": [
    "#converting in dataframe for better readability\n",
    "tags_df = pd.DataFrame(tags_matrix, columns = list(tags), index=list(tags))\n",
    "tags_df"
   ]
  },
  {
   "cell_type": "markdown",
   "metadata": {},
   "source": [
    "### Exploratory Data Analysis ###"
   ]
  },
  {
   "cell_type": "code",
   "execution_count": 17,
   "metadata": {},
   "outputs": [
    {
     "data": {
      "image/png": "[encoded data removed]",
      "text/plain": [
       "<Figure size 1080x720 with 2 Axes>"
      ]
     },
     "metadata": {
      "needs_background": "light"
     },
     "output_type": "display_data"
    }
   ],
   "source": [
    "#Creating heat map for tags matrix\n",
    "# T(i, j) means P(tag j given tag i)\n",
    "plt.figure(figsize=(15, 10))\n",
    "sns.heatmap(tags_df,annot=True)\n",
    "plt.show()"
   ]
  },
  {
   "cell_type": "code",
   "execution_count": 18,
   "metadata": {},
   "outputs": [
    {
     "data": {
      "image/png": "[encoded data removed]",
      "text/plain": [
       "<Figure size 1296x864 with 2 Axes>"
      ]
     },
     "metadata": {
      "needs_background": "light"
     },
     "output_type": "display_data"
    }
   ],
   "source": [
    "#Now checking the frequent tags\n",
    "# filter the df to get P(t2, t1) > 0.5\n",
    "tags_frequent = tags_df[tags_df>0.5]\n",
    "plt.figure(figsize=(18, 12))\n",
    "sns.heatmap(tags_frequent)\n",
    "plt.show()"
   ]
  },
  {
   "cell_type": "markdown",
   "metadata": {},
   "source": [
    "### Viterbi Algorithm ###\n",
    "\n",
    "Below will be the steps: <br>\n",
    "1.Calculate the Probability P(w, tag) for the word sequence without dealing with the unknown words <br>\n",
    "2.Compute the product of emission and transition probability <br>\n",
    "3.Assign the tags which has maximum probability and calculate the same for the next word<br>\n"
   ]
  },
  {
   "cell_type": "code",
   "execution_count": 19,
   "metadata": {},
   "outputs": [],
   "source": [
    "# Function for vanilla viterbi algorithm\n",
    "def vanilla_viterbi(words, train_bag = train_tagged_words):\n",
    "    state = []\n",
    "    T = list(set([pair[1] for pair in train_bag]))\n",
    "    \n",
    "    for key, word in enumerate(words):\n",
    "        #initialise list of probability column for a given observation\n",
    "        p = [] \n",
    "        for tag in T:\n",
    "            if key == 0:\n",
    "                transition_p = tags_df.loc['.', tag]\n",
    "            else:\n",
    "                transition_p = tags_df.loc[state[-1], tag]\n",
    "                \n",
    "            # compute emission and state probabilities\n",
    "            emission_p = word_given_tag(words[key], tag)[0]/word_given_tag(words[key], tag)[1]\n",
    "            state_probability = emission_p * transition_p    \n",
    "            p.append(state_probability)\n",
    "            \n",
    "        pmax = max(p)\n",
    "        # getting state for which probability is maximum\n",
    "        state_max = T[p.index(pmax)] \n",
    "        state.append(state_max)\n",
    "    return list(zip(words, state))\n"
   ]
  },
  {
   "cell_type": "code",
   "execution_count": 20,
   "metadata": {},
   "outputs": [
    {
     "data": {
      "text/plain": [
       "[[('But', 'CONJ'),\n",
       "  ('Coleco', 'NOUN'),\n",
       "  ('bounced', 'VERB'),\n",
       "  ('back', 'PRT'),\n",
       "  ('with', 'ADP'),\n",
       "  ('the', 'DET'),\n",
       "  ('introduction', 'NOUN'),\n",
       "  ('of', 'ADP'),\n",
       "  ('the', 'DET'),\n",
       "  ('Cabbage', 'NOUN'),\n",
       "  ('Patch', 'NOUN'),\n",
       "  ('dolls', 'NOUN'),\n",
       "  (',', '.'),\n",
       "  ('whose', 'PRON'),\n",
       "  ('sales', 'NOUN'),\n",
       "  ('*T*-1', 'X'),\n",
       "  ('hit', 'VERB'),\n",
       "  ('$', '.'),\n",
       "  ('600', 'NUM'),\n",
       "  ('million', 'NUM'),\n",
       "  ('*U*', 'X'),\n",
       "  ('in', 'ADP'),\n",
       "  ('1985', 'NUM'),\n",
       "  ('.', '.')],\n",
       " [('Mr.', 'NOUN'),\n",
       "  ('Karns', 'NOUN'),\n",
       "  ('continues', 'VERB'),\n",
       "  ('as', 'ADP'),\n",
       "  ('chairman', 'NOUN'),\n",
       "  ('.', '.')],\n",
       " [('``', '.'),\n",
       "  ('It', 'PRON'),\n",
       "  (\"'s\", 'VERB'),\n",
       "  ('an', 'DET'),\n",
       "  ('odd', 'ADJ'),\n",
       "  ('thing', 'NOUN'),\n",
       "  ('0', 'X'),\n",
       "  ('*', 'X'),\n",
       "  ('to', 'PRT'),\n",
       "  ('put', 'VERB'),\n",
       "  ('*T*-1', 'X'),\n",
       "  ('on', 'ADP'),\n",
       "  ('the', 'DET'),\n",
       "  ('list', 'NOUN'),\n",
       "  (',', '.'),\n",
       "  (\"''\", '.'),\n",
       "  ('Mr.', 'NOUN'),\n",
       "  ('Bretz', 'NOUN'),\n",
       "  ('noted', 'VERB'),\n",
       "  ('*T*-2', 'X'),\n",
       "  ('.', '.')],\n",
       " [('William', 'NOUN'),\n",
       "  ('C.', 'NOUN'),\n",
       "  ('Walbrecher', 'NOUN'),\n",
       "  ('Jr.', 'NOUN'),\n",
       "  (',', '.'),\n",
       "  ('an', 'DET'),\n",
       "  ('executive', 'NOUN'),\n",
       "  ('at', 'ADP'),\n",
       "  ('San', 'NOUN'),\n",
       "  ('Francisco-based', 'ADJ'),\n",
       "  ('1st', 'NUM'),\n",
       "  ('Nationwide', 'NOUN'),\n",
       "  ('Bank', 'NOUN'),\n",
       "  (',', '.'),\n",
       "  ('was', 'VERB'),\n",
       "  ('named', 'VERB'),\n",
       "  ('*-1', 'X'),\n",
       "  ('president', 'NOUN'),\n",
       "  ('*RNR*-2', 'X'),\n",
       "  ('and', 'CONJ'),\n",
       "  ('chief', 'NOUN'),\n",
       "  ('executive', 'ADJ'),\n",
       "  ('officer', 'NOUN'),\n",
       "  ('*ICH*-2', 'X'),\n",
       "  ('of', 'ADP'),\n",
       "  ('Citadel', 'NOUN'),\n",
       "  ('Holding', 'NOUN'),\n",
       "  ('Corp.', 'NOUN'),\n",
       "  ('and', 'CONJ'),\n",
       "  ('its', 'PRON'),\n",
       "  ('principal', 'ADJ'),\n",
       "  ('operating', 'VERB'),\n",
       "  ('unit', 'NOUN'),\n",
       "  (',', '.'),\n",
       "  ('Fidelity', 'NOUN'),\n",
       "  ('Federal', 'NOUN'),\n",
       "  ('Bank', 'NOUN'),\n",
       "  ('.', '.')],\n",
       " [('Ralston', 'NOUN'),\n",
       "  ('Purina', 'NOUN'),\n",
       "  ('Co.', 'NOUN'),\n",
       "  ('reported', 'VERB'),\n",
       "  ('a', 'DET'),\n",
       "  ('47', 'NUM'),\n",
       "  ('%', 'NOUN'),\n",
       "  ('decline', 'NOUN'),\n",
       "  ('in', 'ADP'),\n",
       "  ('fourth-quarter', 'NOUN'),\n",
       "  ('earnings', 'NOUN'),\n",
       "  (',', '.'),\n",
       "  ('*', 'X'),\n",
       "  ('reflecting', 'VERB'),\n",
       "  ('restructuring', 'NOUN'),\n",
       "  ('costs', 'NOUN'),\n",
       "  ('as', 'ADV'),\n",
       "  ('well', 'ADV'),\n",
       "  ('as', 'ADP'),\n",
       "  ('a', 'DET'),\n",
       "  ('more', 'ADV'),\n",
       "  ('difficult', 'ADJ'),\n",
       "  ('pet', 'NOUN'),\n",
       "  ('food', 'NOUN'),\n",
       "  ('market', 'NOUN'),\n",
       "  ('.', '.')]]"
      ]
     },
     "execution_count": 20,
     "metadata": {},
     "output_type": "execute_result"
    }
   ],
   "source": [
    "#Now evaluating the same on validation set\n",
    "\n",
    "random.seed(1234)\n",
    "\n",
    "# choose random 5 sents\n",
    "rndom = [random.randint(1,len(test_set)) for x in range(5)]\n",
    "\n",
    "# list of sents\n",
    "test_run = [test_set[i] for i in rndom]\n",
    "\n",
    "# list of tagged words\n",
    "test_run_base = [tup for sent in test_run for tup in sent]\n",
    "\n",
    "# list of untagged words\n",
    "test_tagged_words = [tup[0] for sent in test_run for tup in sent]\n",
    "test_run"
   ]
  },
  {
   "cell_type": "code",
   "execution_count": 21,
   "metadata": {},
   "outputs": [
    {
     "name": "stdout",
     "output_type": "stream",
     "text": [
      "Time taken in seconds:  30.853001356124878\n",
      "[('But', 'CONJ'), ('Coleco', 'NOUN'), ('bounced', 'DET'), ('back', 'ADV'), ('with', 'ADP'), ('the', 'DET'), ('introduction', 'NOUN'), ('of', 'ADP'), ('the', 'DET'), ('Cabbage', 'DET'), ('Patch', 'DET'), ('dolls', 'DET'), (',', '.'), ('whose', 'PRON'), ('sales', 'NOUN'), ('*T*-1', 'X'), ('hit', 'VERB'), ('$', '.'), ('600', 'NUM'), ('million', 'NUM'), ('*U*', 'X'), ('in', 'ADP'), ('1985', 'NUM'), ('.', '.'), ('Mr.', 'NOUN'), ('Karns', 'NOUN'), ('continues', 'VERB'), ('as', 'ADP'), ('chairman', 'NOUN'), ('.', '.'), ('``', '.'), ('It', 'PRON'), (\"'s\", 'VERB'), ('an', 'DET'), ('odd', 'ADJ'), ('thing', 'NOUN'), ('0', 'X'), ('*', 'X'), ('to', 'PRT'), ('put', 'VERB'), ('*T*-1', 'X'), ('on', 'ADP'), ('the', 'DET'), ('list', 'NOUN'), (',', '.'), (\"''\", '.'), ('Mr.', 'NOUN'), ('Bretz', 'NOUN'), ('noted', 'VERB'), ('*T*-2', 'X'), ('.', '.'), ('William', 'NOUN'), ('C.', 'NOUN'), ('Walbrecher', 'DET'), ('Jr.', 'NOUN'), (',', '.'), ('an', 'DET'), ('executive', 'NOUN'), ('at', 'ADP'), ('San', 'NOUN'), ('Francisco-based', 'DET'), ('1st', 'DET'), ('Nationwide', 'DET'), ('Bank', 'NOUN'), (',', '.'), ('was', 'VERB'), ('named', 'VERB'), ('*-1', 'X'), ('president', 'NOUN'), ('*RNR*-2', 'X'), ('and', 'CONJ'), ('chief', 'NOUN'), ('executive', 'NOUN'), ('officer', 'NOUN'), ('*ICH*-2', 'X'), ('of', 'ADP'), ('Citadel', 'NOUN'), ('Holding', 'NOUN'), ('Corp.', 'NOUN'), ('and', 'CONJ'), ('its', 'PRON'), ('principal', 'NOUN'), ('operating', 'NOUN'), ('unit', 'NOUN'), (',', '.'), ('Fidelity', 'DET'), ('Federal', 'NOUN'), ('Bank', 'NOUN'), ('.', '.'), ('Ralston', 'NOUN'), ('Purina', 'DET'), ('Co.', 'NOUN'), ('reported', 'VERB'), ('a', 'DET'), ('47', 'NUM'), ('%', 'NOUN'), ('decline', 'NOUN'), ('in', 'ADP'), ('fourth-quarter', 'NOUN'), ('earnings', 'NOUN'), (',', '.'), ('*', 'X'), ('reflecting', 'VERB'), ('restructuring', 'NOUN'), ('costs', 'NOUN'), ('as', 'ADP'), ('well', 'ADV'), ('as', 'ADP'), ('a', 'DET'), ('more', 'ADJ'), ('difficult', 'ADJ'), ('pet', 'NOUN'), ('food', 'NOUN'), ('market', 'NOUN'), ('.', '.')]\n"
     ]
    }
   ],
   "source": [
    "#tagging the test sentences\n",
    "start = time.time()\n",
    "tagged_seq = vanilla_viterbi(test_tagged_words)\n",
    "end = time.time()\n",
    "difference = end-start\n",
    "print(\"Time taken in seconds: \", difference)\n",
    "print(tagged_seq)"
   ]
  },
  {
   "cell_type": "code",
   "execution_count": 22,
   "metadata": {},
   "outputs": [
    {
     "name": "stdout",
     "output_type": "stream",
     "text": [
      "Accuracy of Vanilla Viterbi Algo - 86.08695652173914\n"
     ]
    }
   ],
   "source": [
    "#Checking the Accuracy \n",
    "viterbi_word_check = [i for i, j in zip(tagged_seq, test_run_base) if i == j] \n",
    "vanilla_viterbi_accuracy = len(viterbi_word_check)/len(tagged_seq)*100\n",
    "print('Accuracy of Vanilla Viterbi Algo -',vanilla_viterbi_accuracy)"
   ]
  },
  {
   "cell_type": "markdown",
   "metadata": {},
   "source": [
    "**The accuracy is less , which can be due to the unknown tagged words, lets check the unknown tagged words**"
   ]
  },
  {
   "cell_type": "code",
   "execution_count": 23,
   "metadata": {},
   "outputs": [
    {
     "name": "stdout",
     "output_type": "stream",
     "text": [
      "Total incorrect tagged words : 16\n",
      "[[('Coleco', 'NOUN'), (('bounced', 'DET'), ('bounced', 'VERB'))], [('bounced', 'VERB'), (('back', 'ADV'), ('back', 'PRT'))], [('the', 'DET'), (('Cabbage', 'DET'), ('Cabbage', 'NOUN'))], [('Cabbage', 'NOUN'), (('Patch', 'DET'), ('Patch', 'NOUN'))], [('Patch', 'NOUN'), (('dolls', 'DET'), ('dolls', 'NOUN'))], [('C.', 'NOUN'), (('Walbrecher', 'DET'), ('Walbrecher', 'NOUN'))], [('San', 'NOUN'), (('Francisco-based', 'DET'), ('Francisco-based', 'ADJ'))], [('Francisco-based', 'ADJ'), (('1st', 'DET'), ('1st', 'NUM'))], [('1st', 'NUM'), (('Nationwide', 'DET'), ('Nationwide', 'NOUN'))], [('chief', 'NOUN'), (('executive', 'NOUN'), ('executive', 'ADJ'))], [('its', 'PRON'), (('principal', 'NOUN'), ('principal', 'ADJ'))], [('principal', 'ADJ'), (('operating', 'NOUN'), ('operating', 'VERB'))], [(',', '.'), (('Fidelity', 'DET'), ('Fidelity', 'NOUN'))], [('Ralston', 'NOUN'), (('Purina', 'DET'), ('Purina', 'NOUN'))], [('costs', 'NOUN'), (('as', 'ADP'), ('as', 'ADV'))], [('a', 'DET'), (('more', 'ADJ'), ('more', 'ADV'))]]\n"
     ]
    }
   ],
   "source": [
    "incorrect_tagged_cases = [[test_run_base[i-1],j] for i, j in enumerate(zip(tagged_seq, test_run_base)) if j[0]!=j[1]]\n",
    "print('Total incorrect tagged words :',len(incorrect_tagged_cases))\n",
    "print(incorrect_tagged_cases)"
   ]
  },
  {
   "cell_type": "markdown",
   "metadata": {},
   "source": [
    "*So now there are 22 words which are incorrectly tagged*"
   ]
  },
  {
   "cell_type": "code",
   "execution_count": 24,
   "metadata": {},
   "outputs": [
    {
     "name": "stdout",
     "output_type": "stream",
     "text": [
      "Total unknown words are  10\n",
      "['Cabbage', '1st', 'Patch', 'Walbrecher', 'Nationwide', 'dolls', 'Fidelity', 'bounced', 'Francisco-based', 'Purina']\n"
     ]
    }
   ],
   "source": [
    "#Lets check the unkown tagged words which are present in the test set\n",
    "test_vocab_set=set([t for t in test_tagged_words])\n",
    "words_unknown=list(test_vocab_set - vocab)\n",
    "print('Total unknown words are ',len(words_unknown))\n",
    "print(words_unknown)"
   ]
  },
  {
   "cell_type": "markdown",
   "metadata": {},
   "source": [
    "### Solve the problem of unknown words"
   ]
  },
  {
   "cell_type": "code",
   "execution_count": 25,
   "metadata": {},
   "outputs": [
    {
     "name": "stdout",
     "output_type": "stream",
     "text": [
      "Accuracy of Unigram tagger  0.9054133281219464\n"
     ]
    }
   ],
   "source": [
    "#Lets solve the problem of unknown words with lexicon , Rule based POS tagging\n",
    "# Lexicon (or unigram tagger)\n",
    "unigram_tagger = nltk.UnigramTagger(train_set)\n",
    "unigram_tagger=unigram_tagger.evaluate(test_set)\n",
    "print('Accuracy of Unigram tagger ', unigram_tagger)"
   ]
  },
  {
   "cell_type": "code",
   "execution_count": 26,
   "metadata": {},
   "outputs": [
    {
     "data": {
      "text/plain": [
       "0.2108657416454954"
      ]
     },
     "execution_count": 26,
     "metadata": {},
     "output_type": "execute_result"
    }
   ],
   "source": [
    "# checking the accuracy with bigram tagger\n",
    "bigram_tagger=nltk.BigramTagger(train_set)\n",
    "bigram_tagger.evaluate(test_set)"
   ]
  },
  {
   "cell_type": "markdown",
   "metadata": {},
   "source": [
    "*The accuracy of bigram tagger is quite less , so lets combine the various tagger*"
   ]
  },
  {
   "cell_type": "code",
   "execution_count": 29,
   "metadata": {},
   "outputs": [],
   "source": [
    "#Combining the unigram and rule based tagger\n",
    "patterns = [\n",
    "    (r'.*ing$', 'VBG'),              # gerund\n",
    "    (r'.*ed$', 'VBD'),               # past tense\n",
    "    (r'.*es$', 'VBZ'),               # 3rd singular present\n",
    "    (r'.*ould$', 'MD'),              # modals\n",
    "    (r'.*\\'s$', 'NN$'),              # possessive nouns\n",
    "    (r'.*s$', 'NNS'),                # plural nouns\n",
    "    (r'^-?[0-9]+(.[0-9]+)?$', 'CD'), # cardinal numbers\n",
    "    (r'.*', 'NN')                    # nouns\n",
    "]"
   ]
  },
  {
   "cell_type": "markdown",
   "metadata": {},
   "source": [
    "**Rule based and ungram tagger**"
   ]
  },
  {
   "cell_type": "code",
   "execution_count": 32,
   "metadata": {},
   "outputs": [
    {
     "name": "stdout",
     "output_type": "stream",
     "text": [
      "The accuracy of the Unigram Tagger backed up by the RegexpTagger is 0.9054133281219464\n"
     ]
    }
   ],
   "source": [
    "rule_based_tagger = nltk.RegexpTagger(patterns)\n",
    "rule_based_unigram_tagger = nltk.UnigramTagger(train_set, backoff = rule_based_tagger)\n",
    "accuracy_rule_based_unigram_tagger = rule_based_unigram_tagger.evaluate(test_set)\n",
    "print(\"The accuracy of the Unigram Tagger backed up by the RegexpTagger is\", accuracy_rule_based_unigram_tagger)"
   ]
  },
  {
   "cell_type": "markdown",
   "metadata": {},
   "source": [
    "**Rule based unigram tagger and bigram tagger**"
   ]
  },
  {
   "cell_type": "code",
   "execution_count": 35,
   "metadata": {},
   "outputs": [
    {
     "name": "stdout",
     "output_type": "stream",
     "text": [
      "The accuracy of the Bigram Tagger is 0.9101035763142467\n"
     ]
    }
   ],
   "source": [
    "bigram_tagger = nltk.BigramTagger(train_set, backoff=rule_based_unigram_tagger)\n",
    "bigram_tagger.evaluate(test_set) \n",
    "accuracy_bigram_tagger = bigram_tagger.evaluate(test_set)\n",
    "print(\"The accuracy of the Bigram Tagger is\",accuracy_bigram_tagger)"
   ]
  },
  {
   "cell_type": "markdown",
   "metadata": {},
   "source": [
    "**Tigram tagger with Bigram tagger in backup**"
   ]
  },
  {
   "cell_type": "code",
   "execution_count": 38,
   "metadata": {},
   "outputs": [
    {
     "name": "stdout",
     "output_type": "stream",
     "text": [
      "The accuracy of the Trigram Tagger is 0.9102990033222591\n"
     ]
    }
   ],
   "source": [
    "\n",
    "trigram_tagger = nltk.TrigramTagger(train_set, backoff = bigram_tagger)\n",
    "trigram_tagger.evaluate(test_set)\n",
    "accuracy_trigram_tagger = trigram_tagger.evaluate(test_set)\n",
    "print(\"The accuracy of the Trigram Tagger is\", accuracy_trigram_tagger)"
   ]
  },
  {
   "cell_type": "markdown",
   "metadata": {},
   "source": [
    "*As we can see the tigram tagger Accuracy is slightly higher than the other taggers, so we will modify the viterbi algo to use this trigram tagger as a back off*"
   ]
  },
  {
   "cell_type": "markdown",
   "metadata": {},
   "source": [
    "## Viterbi Modification-1"
   ]
  },
  {
   "cell_type": "code",
   "execution_count": 41,
   "metadata": {},
   "outputs": [],
   "source": [
    "# use transition probability of tags when emission probability is zero in case of unknown words\n",
    "\n",
    "def Viterbi_Vanilla_for_Unknown_Words(words, train_bag = train_tagged_words):\n",
    "    state = []\n",
    "    T = list(set([pair[1] for pair in train_bag]))\n",
    "    \n",
    "    for key, word in enumerate(words):\n",
    "        #initialise list of probability column for a given observation\n",
    "        p = [] \n",
    "        p_transition =[] # list for storing transition probabilities\n",
    "        for tag in T:\n",
    "            if key == 0:\n",
    "                transition_p = tags_df.loc['.', tag]\n",
    "            else:\n",
    "                transition_p = tags_df.loc[state[-1], tag]\n",
    "                \n",
    "            # compute emission and state probabilities\n",
    "            emission_p = word_given_tag(words[key], tag)[0]/word_given_tag(words[key], tag)[1]\n",
    "            state_probability = emission_p * transition_p    \n",
    "            p.append(state_probability)\n",
    "            p_transition.append(transition_p)\n",
    "            \n",
    "        pmax = max(p)\n",
    "        state_max = T[p.index(pmax)] \n",
    "        \n",
    "      \n",
    "        # if probability is zero (unknown word) then use transition probability\n",
    "        if(pmax==0):\n",
    "            pmax = max(p_transition)\n",
    "            state_max = T[p_transition.index(pmax)]\n",
    "                           \n",
    "        else:\n",
    "            state_max = T[p.index(pmax)] \n",
    "        \n",
    "        state.append(state_max)\n",
    "    return list(zip(words, state))"
   ]
  },
  {
   "cell_type": "code",
   "execution_count": 42,
   "metadata": {},
   "outputs": [
    {
     "name": "stdout",
     "output_type": "stream",
     "text": [
      "Time taken in seconds:  28.978071928024292\n",
      "Vanilla Viterbi for Unknown Words Accuracy:  92.17391304347827\n"
     ]
    }
   ],
   "source": [
    "# tagging the test sentences\n",
    "start = time.time()\n",
    "tagged_seq =Viterbi_Vanilla_for_Unknown_Words(test_tagged_words)\n",
    "end = time.time()\n",
    "difference = end-start\n",
    "\n",
    "print(\"Time taken in seconds: \", difference)\n",
    "\n",
    "# accuracy\n",
    "check = [i for i, j in zip(tagged_seq, test_run_base) if i == j] \n",
    "accuracy = len(check)/len(tagged_seq)\n",
    "print('Vanilla Viterbi for Unknown Words Accuracy: ',accuracy*100)"
   ]
  },
  {
   "cell_type": "code",
   "execution_count": 44,
   "metadata": {},
   "outputs": [
    {
     "data": {
      "text/plain": [
       "[('DET', 0.08671082786550717),\n",
       " ('.', 0.11617953306334307),\n",
       " ('NOUN', 0.28715243985391226),\n",
       " ('PRON', 0.027229251038625352),\n",
       " ('CONJ', 0.022499188982722716),\n",
       " ('VERB', 0.13455561485574358),\n",
       " ('X', 0.06533136596238973),\n",
       " ('ADJ', 0.06377211984219174),\n",
       " ('ADV', 0.03132096401176237),\n",
       " ('NUM', 0.035276635377096875),\n",
       " ('ADP', 0.09792902813968334),\n",
       " ('PRT', 0.03204303100702184)]"
      ]
     },
     "execution_count": 44,
     "metadata": {},
     "output_type": "execute_result"
    }
   ],
   "source": [
    "# lets create a list containing tuples of POS tags and POS tag occurance probability, based on training data\n",
    "tag_prob = []\n",
    "total_tag = len([tag for word,tag in train_tagged_words])\n",
    "for t in tags:\n",
    "    each_tag = [tag for word,tag in train_tagged_words if tag==t]\n",
    "    tag_prob.append((t,len(each_tag)/total_tag))\n",
    "\n",
    "tag_prob"
   ]
  },
  {
   "cell_type": "code",
   "execution_count": 45,
   "metadata": {},
   "outputs": [],
   "source": [
    "# use transition probability of tags when emission probability is zero (in case of unknown words)\n",
    "\n",
    "def Vanilla_Viterbi_for_Unknown_Words_Modified(words, train_bag = train_tagged_words):\n",
    "    state = []\n",
    "    T = list(set([pair[1] for pair in train_bag]))\n",
    "    \n",
    "    for key, word in enumerate(words):\n",
    "        #initialise list of probability column for a given observation\n",
    "        p = [] \n",
    "        p_transition =[] # list for storing transition probabilities\n",
    "       \n",
    "        for tag in T:\n",
    "            if key == 0:\n",
    "                transition_p = tags_df.loc['.', tag]\n",
    "            else:\n",
    "                transition_p = tags_df.loc[state[-1], tag]\n",
    "                \n",
    "            # compute emission and state probabilities\n",
    "            emission_p = word_given_tag(words[key], tag)[0]/word_given_tag(words[key], tag)[1]\n",
    "            state_probability = emission_p * transition_p    \n",
    "            p.append(state_probability)\n",
    "            \n",
    "            # find POS tag occurance probability\n",
    "            tag_p = [pair[1] for pair in tag_prob if pair[0]==tag ]\n",
    "            \n",
    "            # calculate the transition prob weighted by tag occurance probability.\n",
    "            transition_p = tag_p[0]*transition_p             \n",
    "            p_transition.append(transition_p)\n",
    "            \n",
    "        pmax = max(p)\n",
    "        state_max = T[p.index(pmax)] \n",
    "        \n",
    "      \n",
    "        # if probability is zero (unknown word) then use weighted transition probability\n",
    "        if(pmax==0):\n",
    "            pmax = max(p_transition)\n",
    "            state_max = T[p_transition.index(pmax)]                 \n",
    "                           \n",
    "        else:\n",
    "            state_max = T[p.index(pmax)] \n",
    "        \n",
    "        state.append(state_max)\n",
    "    return list(zip(words, state))"
   ]
  },
  {
   "cell_type": "code",
   "execution_count": 48,
   "metadata": {},
   "outputs": [
    {
     "name": "stdout",
     "output_type": "stream",
     "text": [
      "Time taken in seconds:  30.785268545150757\n",
      "Modified Vanilla Viterbi for Unknown Words Accuracy:  92.17391304347827\n"
     ]
    }
   ],
   "source": [
    "# tagging the test sentences\n",
    "start = time.time()\n",
    "tagged_seq = Vanilla_Viterbi_for_Unknown_Words_Modified(test_tagged_words)\n",
    "end = time.time()\n",
    "difference = end-start\n",
    "\n",
    "print(\"Time taken in seconds: \", difference)\n",
    "\n",
    "# accuracy\n",
    "viterbi_word_check = [i for i, j in zip(tagged_seq, test_run_base) if i == j] \n",
    "accuracy_viterbi_modified = len(viterbi_word_check)/len(tagged_seq) * 100\n",
    "print('Modified Vanilla Viterbi for Unknown Words Accuracy: ', accuracy_viterbi_modified)"
   ]
  },
  {
   "cell_type": "markdown",
   "metadata": {},
   "source": [
    "*We can see there is a slight improvement in accuracy from ~91% to ~92%.*"
   ]
  },
  {
   "cell_type": "markdown",
   "metadata": {},
   "source": [
    "## Viterbi Modifications-2"
   ]
  },
  {
   "cell_type": "code",
   "execution_count": 50,
   "metadata": {},
   "outputs": [],
   "source": [
    "# A trigram tagger backed off by a rule based tagger.\n",
    "\n",
    "def trigram_tagger(word, train_set = train_set):\n",
    "    \n",
    "    patterns = [\n",
    "    (r'[aA-zZ]+(ed|ing|es)$', 'VERB'), # Any word ending with 'ing' or 'ed' is a verb\n",
    "\n",
    "    (r'.*ly$', 'ADV'),\n",
    "        \n",
    "    (r'^([0-9]|[aA-zZ])+\\-[aA-zZ]*$','ADJ'),\n",
    "    (r'.*able$', 'ADJ'), \n",
    "    (r'.*ful$', 'ADJ'),\n",
    "    (r'.*ous$', 'ADJ'),\n",
    "        \n",
    "    (r'^[aA-zZ].*[0-9]+','NOUN'),     # Alpha Numeric\n",
    "    (r'.*ness$', 'NOUN'),\n",
    "    (r'.*\\'s$', 'NOUN'),              # possessive nouns - words ending with 's\n",
    "    (r'.*s$', 'NOUN'),                # plural nouns\n",
    "    (r'.*ers$', 'NOUN'),              # eg.- kinderganteners, autobioghapgers\n",
    "    (r'.*ment$', 'NOUN'),\n",
    "    (r'.*town$', 'NOUN'),\n",
    "        \n",
    "    (r'^(0|([*|-|$].*))','X'), # Any special character combination\n",
    "    (r'.*ould$', 'X'),\n",
    "        \n",
    "    (r'(The|the|A|a|An|an|That|that|This|this|Those|those|These|these)$', 'DET'), # That/this/these/those belong to the category of Demonstrative determiners\n",
    "    (r'[0-9].?[,\\/]?[0-9]*','NUM'), # Numbers \n",
    "        \n",
    "    (r'.*', 'NOUN')\n",
    "    ]\n",
    "\n",
    "    regex_based_tagger = nltk.RegexpTagger(patterns)\n",
    "\n",
    "    # trigram backed up by the regex tagger\n",
    "    trigram_regex_tagger = nltk.TrigramTagger(train_set, backoff = regex_based_tagger)\n",
    "    return trigram_regex_tagger.tag_sents([[(word)]])"
   ]
  },
  {
   "cell_type": "code",
   "execution_count": 53,
   "metadata": {},
   "outputs": [],
   "source": [
    "# viterbi with handling for unknown words from regex tagger\n",
    "\n",
    "def Viterbi_Trigram_Tagger(words, train_bag = train_tagged_words):\n",
    "    state = []\n",
    "    T = list(set([pair[1] for pair in train_bag]))\n",
    "    \n",
    "    for key, word in enumerate(words):\n",
    "        # unknown words from trigram taggr\n",
    "        if word not in vocab:\n",
    "            unk_word_tag=trigram_tagger(word)\n",
    "            for sent in unk_word_tag:\n",
    "                for tup in sent:\n",
    "                    state.append(tup[1])\n",
    "        # rest remains same            \n",
    "        else:            \n",
    "            p = [] \n",
    "            for tag in T:\n",
    "                if key == 0:\n",
    "                    transition_p = tags_df.loc['.', tag]\n",
    "                else:\n",
    "                    transition_p = tags_df.loc[state[-1], tag]\n",
    "                \n",
    "            # compute emission and state probabilities\n",
    "                emission_p = word_given_tag(words[key], tag)[0]/word_given_tag(words[key], tag)[1]\n",
    "                state_probability = emission_p * transition_p    \n",
    "                p.append(state_probability)\n",
    "            \n",
    "            pmax = max(p)\n",
    "            # getting state for which probability is maximum\n",
    "            state_max = T[p.index(pmax)] \n",
    "            state.append(state_max)\n",
    "            \n",
    "    return list(zip(words, state))"
   ]
  },
  {
   "cell_type": "markdown",
   "metadata": {},
   "source": [
    "#### Evaluating tagging accuracy"
   ]
  },
  {
   "cell_type": "code",
   "execution_count": 54,
   "metadata": {},
   "outputs": [
    {
     "name": "stdout",
     "output_type": "stream",
     "text": [
      "Time taken in seconds:  75.79390668869019\n",
      "Modified Viterbi Trigram Tagger Accuracy:  94.78260869565217\n"
     ]
    }
   ],
   "source": [
    "# tagging the test sentences\n",
    "start = time.time()\n",
    "tagged_seq = Viterbi_Trigram_Tagger(test_tagged_words)\n",
    "end = time.time()\n",
    "difference = end-start\n",
    "\n",
    "print(\"Time taken in seconds: \", difference)\n",
    "\n",
    "# accuracy\n",
    "viterbi_trigram_word_check = [i for i, j in zip(tagged_seq, test_run_base) if i == j] \n",
    "viterbi_trigram_accuracy = len(viterbi_trigram_word_check)/len(tagged_seq) * 100\n",
    "print('Modified Viterbi Trigram Tagger Accuracy: ', viterbi_trigram_accuracy)"
   ]
  },
  {
   "cell_type": "markdown",
   "metadata": {},
   "source": [
    "**As we can see there is a good increase in the accuracy which is approx 95%**"
   ]
  },
  {
   "cell_type": "markdown",
   "metadata": {},
   "source": [
    "### Compare the tagging accuracies of the modifications with the vanilla Viterbi algorithm"
   ]
  },
  {
   "cell_type": "code",
   "execution_count": 58,
   "metadata": {},
   "outputs": [
    {
     "data": {
      "text/html": [
       "<div>\n",
       "<style scoped>\n",
       "    .dataframe tbody tr th:only-of-type {\n",
       "        vertical-align: middle;\n",
       "    }\n",
       "\n",
       "    .dataframe tbody tr th {\n",
       "        vertical-align: top;\n",
       "    }\n",
       "\n",
       "    .dataframe thead th {\n",
       "        text-align: right;\n",
       "    }\n",
       "</style>\n",
       "<table border=\"1\" class=\"dataframe\">\n",
       "  <thead>\n",
       "    <tr style=\"text-align: right;\">\n",
       "      <th></th>\n",
       "      <th>Tagging_Accuracy</th>\n",
       "    </tr>\n",
       "    <tr>\n",
       "      <th>Tagging_Algorithm</th>\n",
       "      <th></th>\n",
       "    </tr>\n",
       "  </thead>\n",
       "  <tbody>\n",
       "    <tr>\n",
       "      <th>Vanilla Viterbi</th>\n",
       "      <td>86.086957</td>\n",
       "    </tr>\n",
       "    <tr>\n",
       "      <th>Vanilla Viterbi Modified</th>\n",
       "      <td>92.173913</td>\n",
       "    </tr>\n",
       "    <tr>\n",
       "      <th>Unigram Tagger</th>\n",
       "      <td>90.541333</td>\n",
       "    </tr>\n",
       "    <tr>\n",
       "      <th>Unigram + RegexpTagger</th>\n",
       "      <td>90.541333</td>\n",
       "    </tr>\n",
       "    <tr>\n",
       "      <th>Bigram Tagger + Unigram_tagger</th>\n",
       "      <td>91.010358</td>\n",
       "    </tr>\n",
       "    <tr>\n",
       "      <th>Trigram Tagger + Bigram_taggvanilla_viterbier</th>\n",
       "      <td>91.029900</td>\n",
       "    </tr>\n",
       "    <tr>\n",
       "      <th>Viterbi + Trigram_tagger</th>\n",
       "      <td>94.782609</td>\n",
       "    </tr>\n",
       "  </tbody>\n",
       "</table>\n",
       "</div>"
      ],
      "text/plain": [
       "                                               Tagging_Accuracy\n",
       "Tagging_Algorithm                                              \n",
       "Vanilla Viterbi                                       86.086957\n",
       "Vanilla Viterbi Modified                              92.173913\n",
       "Unigram Tagger                                        90.541333\n",
       "Unigram + RegexpTagger                                90.541333\n",
       "Bigram Tagger + Unigram_tagger                        91.010358\n",
       "Trigram Tagger + Bigram_taggvanilla_viterbier         91.029900\n",
       "Viterbi + Trigram_tagger                              94.782609"
      ]
     },
     "execution_count": 58,
     "metadata": {},
     "output_type": "execute_result"
    }
   ],
   "source": [
    "acccuracy_data = [['Vanilla Viterbi', vanilla_viterbi_accuracy], \n",
    "                  ['Vanilla Viterbi Modified', accuracy_viterbi_modified], \n",
    "                  ['Unigram Tagger', unigram_tagger * 100],\n",
    "                  ['Unigram + RegexpTagger', accuracy_rule_based_unigram_tagger * 100],\n",
    "                  ['Bigram Tagger + Unigram_tagger', accuracy_bigram_tagger*100],\n",
    "                  ['Trigram Tagger + Bigram_taggvanilla_viterbier', accuracy_trigram_tagger*100],\n",
    "                  ['Viterbi + Trigram_tagger', viterbi_trigram_accuracy]]\n",
    "\n",
    "acccuracy_data_df = pd.DataFrame(acccuracy_data, columns = ['Tagging_Algorithm', 'Tagging_Accuracy'])\n",
    "\n",
    "acccuracy_data_df.set_index('Tagging_Algorithm', drop = True, inplace = True)\n",
    "\n",
    "acccuracy_data_df"
   ]
  },
  {
   "cell_type": "markdown",
   "metadata": {},
   "source": [
    "*The best combination through which we get the highest accuracy is for \"Viterbi + Trigram_tagger\"*"
   ]
  },
  {
   "cell_type": "markdown",
   "metadata": {},
   "source": [
    "### List down cases which were incorrectly tagged by original POS tagger and got corrected by your modifications"
   ]
  },
  {
   "cell_type": "code",
   "execution_count": 60,
   "metadata": {},
   "outputs": [
    {
     "name": "stdout",
     "output_type": "stream",
     "text": [
      "[('Android', 'DET'), ('has', 'VERB'), ('been', 'VERB'), ('the', 'DET'), ('best-selling', 'DET'), ('OS', 'DET'), ('worldwide', 'DET'), ('on', 'ADP'), ('smartphones', 'DET'), ('since', 'ADP'), ('2011', 'DET'), ('and', 'CONJ'), ('on', 'ADP'), ('tablets', 'NOUN'), ('since', 'ADP'), ('2013', 'DET'), ('.', '.')]\n"
     ]
    }
   ],
   "source": [
    "## Testing a sentence with Vanila Viterbi\n",
    "sentence_test_1 = 'Android has been the best-selling OS worldwide on smartphones since 2011 and on tablets since 2013.'\n",
    "words = word_tokenize(sentence_test_1)\n",
    "tagged_seq = vanilla_viterbi(words)\n",
    "print(tagged_seq)"
   ]
  },
  {
   "cell_type": "code",
   "execution_count": 61,
   "metadata": {},
   "outputs": [
    {
     "name": "stdout",
     "output_type": "stream",
     "text": [
      "[('Android', 'NOUN'), ('has', 'VERB'), ('been', 'VERB'), ('the', 'DET'), ('best-selling', 'ADJ'), ('OS', 'NOUN'), ('worldwide', 'NOUN'), ('on', 'ADP'), ('smartphones', 'VERB'), ('since', 'ADP'), ('2011', 'NUM'), ('and', 'CONJ'), ('on', 'ADP'), ('tablets', 'NOUN'), ('since', 'ADP'), ('2013', 'NUM'), ('.', '.')]\n"
     ]
    }
   ],
   "source": [
    "#Now test the same sentence with another modified function algorith\n",
    "tagged_seq_modified = Viterbi_Trigram_Tagger(words)\n",
    "print(tagged_seq_modified)"
   ]
  },
  {
   "cell_type": "code",
   "execution_count": 62,
   "metadata": {},
   "outputs": [
    {
     "name": "stdout",
     "output_type": "stream",
     "text": [
      "[('Android', 'NOUN'), ('has', 'VERB'), ('been', 'VERB'), ('the', 'DET'), ('best-selling', 'NOUN'), ('OS', 'NOUN'), ('worldwide', 'NOUN'), ('on', 'ADP'), ('smartphones', 'DET'), ('since', 'ADP'), ('2011', 'DET'), ('and', 'CONJ'), ('on', 'ADP'), ('tablets', 'NOUN'), ('since', 'ADP'), ('2013', 'DET'), ('.', '.')]\n"
     ]
    }
   ],
   "source": [
    "#again testing the same sentence with another modified function algorith\n",
    "tagged_seq_modified = Viterbi_Vanilla_for_Unknown_Words(words)\n",
    "print(tagged_seq_modified)"
   ]
  },
  {
   "cell_type": "code",
   "execution_count": 77,
   "metadata": {},
   "outputs": [],
   "source": [
    "#Now testing another sentence \n",
    "sentence_test_2 = 'Google and Twitter made a deal in 2015 that gave Google access to Twitter\\s firehose.'\n",
    "words_2 = word_tokenize(sentence_test_2)"
   ]
  },
  {
   "cell_type": "code",
   "execution_count": 78,
   "metadata": {},
   "outputs": [
    {
     "name": "stdout",
     "output_type": "stream",
     "text": [
      "[('Google', 'DET'), ('and', 'CONJ'), ('Twitter', 'DET'), ('made', 'VERB'), ('a', 'DET'), ('deal', 'NOUN'), ('in', 'ADP'), ('2015', 'DET'), ('that', 'ADP'), ('gave', 'VERB'), ('Google', 'DET'), ('access', 'NOUN'), ('to', 'PRT'), ('Twitter\\\\s', 'DET'), ('firehose', 'DET'), ('.', '.')]\n"
     ]
    }
   ],
   "source": [
    "tagged_seq = vanilla_viterbi(words_2)\n",
    "print(tagged_seq)"
   ]
  },
  {
   "cell_type": "code",
   "execution_count": 79,
   "metadata": {},
   "outputs": [
    {
     "name": "stdout",
     "output_type": "stream",
     "text": [
      "[('Google', 'NOUN'), ('and', 'CONJ'), ('Twitter', 'NOUN'), ('made', 'VERB'), ('a', 'DET'), ('deal', 'NOUN'), ('in', 'ADP'), ('2015', 'NUM'), ('that', 'ADP'), ('gave', 'VERB'), ('Google', 'NOUN'), ('access', 'NOUN'), ('to', 'PRT'), ('Twitter\\\\s', 'NOUN'), ('firehose', 'NOUN'), ('.', '.')]\n"
     ]
    }
   ],
   "source": [
    "tagged_seq_modified = Viterbi_Trigram_Tagger(words_2)\n",
    "print(tagged_seq_modified)"
   ]
  },
  {
   "cell_type": "code",
   "execution_count": 81,
   "metadata": {},
   "outputs": [
    {
     "name": "stdout",
     "output_type": "stream",
     "text": [
      "[('Google', 'NOUN'), ('and', 'CONJ'), ('Twitter', 'NOUN'), ('made', 'VERB'), ('a', 'DET'), ('deal', 'NOUN'), ('in', 'ADP'), ('2015', 'DET'), ('that', 'ADP'), ('gave', 'VERB'), ('Google', 'X'), ('access', 'NOUN'), ('to', 'PRT'), ('Twitter\\\\s', 'VERB'), ('firehose', 'X'), ('.', '.')]\n"
     ]
    }
   ],
   "source": [
    "tagged_seq_modified = Viterbi_Vanilla_for_Unknown_Words(words_2)\n",
    "print(tagged_seq_modified)"
   ]
  },
  {
   "cell_type": "code",
   "execution_count": 82,
   "metadata": {},
   "outputs": [],
   "source": [
    "#Now testing another sentence \n",
    "sentence_test_3 = 'This is the first World Cup to be held in Eastern Europe and the 11th time that it has been held in Europe.'\n",
    "words_3 = word_tokenize(sentence_test_3)"
   ]
  },
  {
   "cell_type": "code",
   "execution_count": 83,
   "metadata": {},
   "outputs": [
    {
     "name": "stdout",
     "output_type": "stream",
     "text": [
      "[('This', 'DET'), ('is', 'VERB'), ('the', 'DET'), ('first', 'ADJ'), ('World', 'NOUN'), ('Cup', 'DET'), ('to', 'PRT'), ('be', 'VERB'), ('held', 'VERB'), ('in', 'ADP'), ('Eastern', 'NOUN'), ('Europe', 'NOUN'), ('and', 'CONJ'), ('the', 'DET'), ('11th', 'ADJ'), ('time', 'NOUN'), ('that', 'ADP'), ('it', 'PRON'), ('has', 'VERB'), ('been', 'VERB'), ('held', 'VERB'), ('in', 'ADP'), ('Europe', 'NOUN'), ('.', '.')]\n"
     ]
    }
   ],
   "source": [
    "tagged_seq = vanilla_viterbi(words_3)\n",
    "print(tagged_seq)"
   ]
  },
  {
   "cell_type": "code",
   "execution_count": 84,
   "metadata": {},
   "outputs": [
    {
     "name": "stdout",
     "output_type": "stream",
     "text": [
      "[('This', 'DET'), ('is', 'VERB'), ('the', 'DET'), ('first', 'ADJ'), ('World', 'NOUN'), ('Cup', 'NOUN'), ('to', 'PRT'), ('be', 'VERB'), ('held', 'VERB'), ('in', 'ADP'), ('Eastern', 'NOUN'), ('Europe', 'NOUN'), ('and', 'CONJ'), ('the', 'DET'), ('11th', 'ADJ'), ('time', 'NOUN'), ('that', 'ADP'), ('it', 'PRON'), ('has', 'VERB'), ('been', 'VERB'), ('held', 'VERB'), ('in', 'ADP'), ('Europe', 'NOUN'), ('.', '.')]\n"
     ]
    }
   ],
   "source": [
    "tagged_seq_modified = Viterbi_Trigram_Tagger(words_3)\n",
    "print(tagged_seq_modified)"
   ]
  },
  {
   "cell_type": "code",
   "execution_count": 85,
   "metadata": {},
   "outputs": [
    {
     "name": "stdout",
     "output_type": "stream",
     "text": [
      "[('This', 'DET'), ('is', 'VERB'), ('the', 'DET'), ('first', 'ADJ'), ('World', 'NOUN'), ('Cup', 'NOUN'), ('to', 'PRT'), ('be', 'VERB'), ('held', 'VERB'), ('in', 'ADP'), ('Eastern', 'NOUN'), ('Europe', 'NOUN'), ('and', 'CONJ'), ('the', 'DET'), ('11th', 'ADJ'), ('time', 'NOUN'), ('that', 'ADP'), ('it', 'PRON'), ('has', 'VERB'), ('been', 'VERB'), ('held', 'VERB'), ('in', 'ADP'), ('Europe', 'NOUN'), ('.', '.')]\n"
     ]
    }
   ],
   "source": [
    "tagged_seq_modified = Viterbi_Vanilla_for_Unknown_Words(words_3)\n",
    "print(tagged_seq_modified)"
   ]
  },
  {
   "cell_type": "code",
   "execution_count": 73,
   "metadata": {},
   "outputs": [],
   "source": [
    "#Now testing another sentence \n",
    "sentence_test_4 = 'Twitter is an online news and social networking service on which users post and interact with messages known as tweets.'\n",
    "words_4 = word_tokenize(sentence_test_4)"
   ]
  },
  {
   "cell_type": "code",
   "execution_count": 74,
   "metadata": {},
   "outputs": [
    {
     "name": "stdout",
     "output_type": "stream",
     "text": [
      "[('Twitter', 'DET'), ('is', 'VERB'), ('an', 'DET'), ('online', 'DET'), ('news', 'NOUN'), ('and', 'CONJ'), ('social', 'ADJ'), ('networking', 'NOUN'), ('service', 'NOUN'), ('on', 'ADP'), ('which', 'DET'), ('users', 'NOUN'), ('post', 'NOUN'), ('and', 'CONJ'), ('interact', 'DET'), ('with', 'ADP'), ('messages', 'DET'), ('known', 'ADJ'), ('as', 'ADP'), ('tweets', 'DET'), ('.', '.')]\n"
     ]
    }
   ],
   "source": [
    "tagged_seq = vanilla_viterbi(words_4)\n",
    "print(tagged_seq)"
   ]
  },
  {
   "cell_type": "code",
   "execution_count": 75,
   "metadata": {},
   "outputs": [
    {
     "name": "stdout",
     "output_type": "stream",
     "text": [
      "[('Twitter', 'NOUN'), ('is', 'VERB'), ('an', 'DET'), ('online', 'NOUN'), ('news', 'NOUN'), ('and', 'CONJ'), ('social', 'ADJ'), ('networking', 'NOUN'), ('service', 'NOUN'), ('on', 'ADP'), ('which', 'DET'), ('users', 'NOUN'), ('post', 'NOUN'), ('and', 'CONJ'), ('interact', 'NOUN'), ('with', 'ADP'), ('messages', 'VERB'), ('known', 'VERB'), ('as', 'ADP'), ('tweets', 'NOUN'), ('.', '.')]\n"
     ]
    }
   ],
   "source": [
    "tagged_seq_modified = Viterbi_Trigram_Tagger(words_4)\n",
    "print(tagged_seq_modified)"
   ]
  },
  {
   "cell_type": "code",
   "execution_count": 76,
   "metadata": {},
   "outputs": [
    {
     "name": "stdout",
     "output_type": "stream",
     "text": [
      "[('Twitter', 'NOUN'), ('is', 'VERB'), ('an', 'DET'), ('online', 'NOUN'), ('news', 'NOUN'), ('and', 'CONJ'), ('social', 'ADJ'), ('networking', 'NOUN'), ('service', 'NOUN'), ('on', 'ADP'), ('which', 'DET'), ('users', 'NOUN'), ('post', 'NOUN'), ('and', 'CONJ'), ('interact', 'NOUN'), ('with', 'ADP'), ('messages', 'DET'), ('known', 'ADJ'), ('as', 'ADP'), ('tweets', 'DET'), ('.', '.')]\n"
     ]
    }
   ],
   "source": [
    "tagged_seq_modified = Viterbi_Vanilla_for_Unknown_Words(words_4)\n",
    "print(tagged_seq_modified)"
   ]
  },
  {
   "cell_type": "markdown",
   "metadata": {},
   "source": [
    "*We can clearly see that new modified functions are capable of detecting the new words and tag them*"
   ]
  },
  {
   "cell_type": "markdown",
   "metadata": {},
   "source": [
    "**Final Conculsion:** *Viterbi_Trigram_Tagger and Viterbi_Vanilla_for_Unknown_Words are the two modified function which are capable of detecting the unknown words that can be used for POS tagging which are not marked by NLTK dataset*"
   ]
  },
  {
   "cell_type": "code",
   "execution_count": null,
   "metadata": {},
   "outputs": [],
   "source": []
  }
 ],
 "metadata": {
  "kernelspec": {
   "display_name": "Python 3",
   "language": "python",
   "name": "python3"
  },
  "language_info": {
   "codemirror_mode": {
    "name": "ipython",
    "version": 3
   },
   "file_extension": ".py",
   "mimetype": "text/x-python",
   "name": "python",
   "nbconvert_exporter": "python",
   "pygments_lexer": "ipython3",
   "version": "3.7.6"
  }
 },
 "nbformat": 4,
 "nbformat_minor": 2
}
